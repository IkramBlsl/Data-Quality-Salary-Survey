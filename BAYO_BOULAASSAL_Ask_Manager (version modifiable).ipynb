{
 "cells": [
  {
   "cell_type": "markdown",
   "id": "ed208076",
   "metadata": {},
   "source": [
    "**Mariam BAYO**\n",
    "\n",
    "**Ikram BOULAASSAL**\n",
    "\n",
    "**IDo M2 IISC**"
   ]
  },
  {
   "cell_type": "code",
   "execution_count": 2,
   "id": "2a18150b",
   "metadata": {},
   "outputs": [],
   "source": [
    "import pandas as pd \n",
    "import numpy as np\n",
    "import nltk\n",
    "import matplotlib.pyplot as plt\n",
    "import seaborn as sns\n",
    "import gspread\n",
    "\n",
    "import re\n",
    "import nltk\n",
    "import os \n",
    "import nltk.corpus\n",
    "from nltk.tokenize import word_tokenize\n",
    "from nltk.probability import FreqDist\n",
    "#Checking for the word \"research#\n",
    "from nltk.stem import PorterStemmer\n",
    "#Importing Lemmatizer library from nltk :\n",
    "from nltk.stem import WordNetLemmatizer\n",
    "lemmatizer = WordNetLemmatizer()\n",
    "from nltk import word_tokenize\n",
    "from nltk.corpus import stopwords\n",
    "from nltk import ne_chunk\n",
    "from nltk import RegexpParser\n",
    "from sklearn.feature_extraction.text import TfidfVectorizer\n",
    "from gensim.models import Word2Vec\n",
    "from nltk.tokenize import word_tokenize"
   ]
  },
  {
   "cell_type": "markdown",
   "id": "391294d4",
   "metadata": {},
   "source": [
    "# QUESTION 1 : DATA EXPLORATION"
   ]
  },
  {
   "cell_type": "code",
   "execution_count": 3,
   "id": "a75cb466",
   "metadata": {},
   "outputs": [],
   "source": [
    "# Charger le fichier Excel dans un DataFrame\n",
    "file = 'Ask A Manager Salary Survey 2021.csv'"
   ]
  },
  {
   "cell_type": "code",
   "execution_count": 4,
   "id": "4ad35a93",
   "metadata": {},
   "outputs": [],
   "source": [
    "nouveaux_noms_colonnes = ['Timestamp', 'age', 'industry','job','complement_job','annual_salary','aditional_salary','currency','other_currency','additional_context','country','state','city','work_year','year_field','educational_level','gender','race']  # Remplace avec tes nouveaux noms de colonnes"
   ]
  },
  {
   "cell_type": "code",
   "execution_count": 5,
   "id": "5b586404",
   "metadata": {},
   "outputs": [],
   "source": [
    "donnees = pd.read_csv(file, header=None, names=nouveaux_noms_colonnes)"
   ]
  },
  {
   "cell_type": "code",
   "execution_count": 6,
   "id": "9eb671f5",
   "metadata": {},
   "outputs": [
    {
     "data": {
      "text/plain": [
       "(27990, 18)"
      ]
     },
     "execution_count": 6,
     "metadata": {},
     "output_type": "execute_result"
    }
   ],
   "source": [
    "donnees.shape"
   ]
  },
  {
   "cell_type": "code",
   "execution_count": 7,
   "id": "86d47c8d",
   "metadata": {},
   "outputs": [],
   "source": [
    "# Supprimer la première ligne\n",
    "donnees = donnees.iloc[1:]"
   ]
  },
  {
   "cell_type": "code",
   "execution_count": 10,
   "id": "eb354aa0",
   "metadata": {},
   "outputs": [],
   "source": [
    "#Réinitialiser les index après la suppression\n",
    "donnees.reset_index(drop=True, inplace=True)"
   ]
  },
  {
   "cell_type": "code",
   "execution_count": 9,
   "id": "c18d7ee9",
   "metadata": {},
   "outputs": [
    {
     "data": {
      "text/html": [
       "<div>\n",
       "<style scoped>\n",
       "    .dataframe tbody tr th:only-of-type {\n",
       "        vertical-align: middle;\n",
       "    }\n",
       "\n",
       "    .dataframe tbody tr th {\n",
       "        vertical-align: top;\n",
       "    }\n",
       "\n",
       "    .dataframe thead th {\n",
       "        text-align: right;\n",
       "    }\n",
       "</style>\n",
       "<table border=\"1\" class=\"dataframe\">\n",
       "  <thead>\n",
       "    <tr style=\"text-align: right;\">\n",
       "      <th></th>\n",
       "      <th>Timestamp</th>\n",
       "      <th>age</th>\n",
       "      <th>industry</th>\n",
       "      <th>job</th>\n",
       "      <th>complement_job</th>\n",
       "      <th>annual_salary</th>\n",
       "      <th>aditional_salary</th>\n",
       "      <th>currency</th>\n",
       "      <th>other_currency</th>\n",
       "      <th>additional_context</th>\n",
       "      <th>country</th>\n",
       "      <th>state</th>\n",
       "      <th>city</th>\n",
       "      <th>work_year</th>\n",
       "      <th>year_field</th>\n",
       "      <th>educational_level</th>\n",
       "      <th>gender</th>\n",
       "      <th>race</th>\n",
       "    </tr>\n",
       "  </thead>\n",
       "  <tbody>\n",
       "    <tr>\n",
       "      <th>0</th>\n",
       "      <td>4/27/2021 11:02:10</td>\n",
       "      <td>25-34</td>\n",
       "      <td>Education (Higher Education)</td>\n",
       "      <td>Research and Instruction Librarian</td>\n",
       "      <td>NaN</td>\n",
       "      <td>55,000</td>\n",
       "      <td>0</td>\n",
       "      <td>USD</td>\n",
       "      <td>NaN</td>\n",
       "      <td>NaN</td>\n",
       "      <td>United States</td>\n",
       "      <td>Massachusetts</td>\n",
       "      <td>Boston</td>\n",
       "      <td>5-7 years</td>\n",
       "      <td>5-7 years</td>\n",
       "      <td>Master's degree</td>\n",
       "      <td>Woman</td>\n",
       "      <td>White</td>\n",
       "    </tr>\n",
       "    <tr>\n",
       "      <th>1</th>\n",
       "      <td>4/27/2021 11:02:22</td>\n",
       "      <td>25-34</td>\n",
       "      <td>Computing or Tech</td>\n",
       "      <td>Change &amp; Internal Communications Manager</td>\n",
       "      <td>NaN</td>\n",
       "      <td>54,600</td>\n",
       "      <td>4000</td>\n",
       "      <td>GBP</td>\n",
       "      <td>NaN</td>\n",
       "      <td>NaN</td>\n",
       "      <td>United Kingdom</td>\n",
       "      <td>NaN</td>\n",
       "      <td>Cambridge</td>\n",
       "      <td>8 - 10 years</td>\n",
       "      <td>5-7 years</td>\n",
       "      <td>College degree</td>\n",
       "      <td>Non-binary</td>\n",
       "      <td>White</td>\n",
       "    </tr>\n",
       "    <tr>\n",
       "      <th>2</th>\n",
       "      <td>4/27/2021 11:02:38</td>\n",
       "      <td>25-34</td>\n",
       "      <td>Accounting, Banking &amp; Finance</td>\n",
       "      <td>Marketing Specialist</td>\n",
       "      <td>NaN</td>\n",
       "      <td>34,000</td>\n",
       "      <td>NaN</td>\n",
       "      <td>USD</td>\n",
       "      <td>NaN</td>\n",
       "      <td>NaN</td>\n",
       "      <td>US</td>\n",
       "      <td>Tennessee</td>\n",
       "      <td>Chattanooga</td>\n",
       "      <td>2 - 4 years</td>\n",
       "      <td>2 - 4 years</td>\n",
       "      <td>College degree</td>\n",
       "      <td>Woman</td>\n",
       "      <td>White</td>\n",
       "    </tr>\n",
       "    <tr>\n",
       "      <th>3</th>\n",
       "      <td>4/27/2021 11:02:41</td>\n",
       "      <td>25-34</td>\n",
       "      <td>Nonprofits</td>\n",
       "      <td>Program Manager</td>\n",
       "      <td>NaN</td>\n",
       "      <td>62,000</td>\n",
       "      <td>3000</td>\n",
       "      <td>USD</td>\n",
       "      <td>NaN</td>\n",
       "      <td>NaN</td>\n",
       "      <td>USA</td>\n",
       "      <td>Wisconsin</td>\n",
       "      <td>Milwaukee</td>\n",
       "      <td>8 - 10 years</td>\n",
       "      <td>5-7 years</td>\n",
       "      <td>College degree</td>\n",
       "      <td>Woman</td>\n",
       "      <td>White</td>\n",
       "    </tr>\n",
       "    <tr>\n",
       "      <th>4</th>\n",
       "      <td>4/27/2021 11:02:42</td>\n",
       "      <td>25-34</td>\n",
       "      <td>Accounting, Banking &amp; Finance</td>\n",
       "      <td>Accounting Manager</td>\n",
       "      <td>NaN</td>\n",
       "      <td>60,000</td>\n",
       "      <td>7000</td>\n",
       "      <td>USD</td>\n",
       "      <td>NaN</td>\n",
       "      <td>NaN</td>\n",
       "      <td>US</td>\n",
       "      <td>South Carolina</td>\n",
       "      <td>Greenville</td>\n",
       "      <td>8 - 10 years</td>\n",
       "      <td>5-7 years</td>\n",
       "      <td>College degree</td>\n",
       "      <td>Woman</td>\n",
       "      <td>White</td>\n",
       "    </tr>\n",
       "  </tbody>\n",
       "</table>\n",
       "</div>"
      ],
      "text/plain": [
       "            Timestamp    age                       industry  \\\n",
       "0  4/27/2021 11:02:10  25-34   Education (Higher Education)   \n",
       "1  4/27/2021 11:02:22  25-34              Computing or Tech   \n",
       "2  4/27/2021 11:02:38  25-34  Accounting, Banking & Finance   \n",
       "3  4/27/2021 11:02:41  25-34                     Nonprofits   \n",
       "4  4/27/2021 11:02:42  25-34  Accounting, Banking & Finance   \n",
       "\n",
       "                                        job complement_job annual_salary  \\\n",
       "0        Research and Instruction Librarian            NaN        55,000   \n",
       "1  Change & Internal Communications Manager            NaN        54,600   \n",
       "2                      Marketing Specialist            NaN        34,000   \n",
       "3                           Program Manager            NaN        62,000   \n",
       "4                        Accounting Manager            NaN        60,000   \n",
       "\n",
       "  aditional_salary currency other_currency additional_context         country  \\\n",
       "0                0      USD            NaN                NaN   United States   \n",
       "1             4000      GBP            NaN                NaN  United Kingdom   \n",
       "2              NaN      USD            NaN                NaN              US   \n",
       "3             3000      USD            NaN                NaN             USA   \n",
       "4             7000      USD            NaN                NaN              US   \n",
       "\n",
       "            state         city     work_year   year_field educational_level  \\\n",
       "0   Massachusetts       Boston     5-7 years    5-7 years   Master's degree   \n",
       "1             NaN    Cambridge  8 - 10 years    5-7 years    College degree   \n",
       "2       Tennessee  Chattanooga   2 - 4 years  2 - 4 years    College degree   \n",
       "3       Wisconsin    Milwaukee  8 - 10 years    5-7 years    College degree   \n",
       "4  South Carolina   Greenville  8 - 10 years    5-7 years    College degree   \n",
       "\n",
       "       gender   race  \n",
       "0       Woman  White  \n",
       "1  Non-binary  White  \n",
       "2       Woman  White  \n",
       "3       Woman  White  \n",
       "4       Woman  White  "
      ]
     },
     "execution_count": 9,
     "metadata": {},
     "output_type": "execute_result"
    }
   ],
   "source": [
    "donnees.head()"
   ]
  },
  {
   "cell_type": "code",
   "execution_count": 10,
   "id": "6ee9cf7f",
   "metadata": {},
   "outputs": [
    {
     "data": {
      "text/plain": [
       "Timestamp             object\n",
       "age                   object\n",
       "industry              object\n",
       "job                   object\n",
       "complement_job        object\n",
       "annual_salary         object\n",
       "aditional_salary      object\n",
       "currency              object\n",
       "other_currency        object\n",
       "additional_context    object\n",
       "country               object\n",
       "state                 object\n",
       "city                  object\n",
       "work_year             object\n",
       "year_field            object\n",
       "educational_level     object\n",
       "gender                object\n",
       "race                  object\n",
       "dtype: object"
      ]
     },
     "execution_count": 10,
     "metadata": {},
     "output_type": "execute_result"
    }
   ],
   "source": [
    "donnees.dtypes"
   ]
  },
  {
   "cell_type": "code",
   "execution_count": 11,
   "id": "3fd6854b",
   "metadata": {},
   "outputs": [
    {
     "data": {
      "text/plain": [
       "0    25-34\n",
       "1    25-34\n",
       "2    25-34\n",
       "3    25-34\n",
       "4    25-34\n",
       "Name: age, dtype: object"
      ]
     },
     "execution_count": 11,
     "metadata": {},
     "output_type": "execute_result"
    }
   ],
   "source": [
    "donnees['age'].head()"
   ]
  },
  {
   "cell_type": "code",
   "execution_count": 12,
   "id": "2f092488",
   "metadata": {},
   "outputs": [
    {
     "name": "stdout",
     "output_type": "stream",
     "text": [
      "Statistiques descriptives pour les salaires:\n",
      " count      27989\n",
      "unique      4290\n",
      "top       60,000\n",
      "freq         430\n",
      "Name: annual_salary, dtype: object\n"
     ]
    }
   ],
   "source": [
    "# Statistiques descriptives pour les salaires\n",
    "salary_stats = donnees['annual_salary'].describe()\n",
    "print(\"Statistiques descriptives pour les salaires:\\n\", salary_stats)"
   ]
  },
  {
   "cell_type": "code",
   "execution_count": 13,
   "id": "92751e9e",
   "metadata": {},
   "outputs": [
    {
     "data": {
      "text/plain": [
       "array(['5-7 years', '8 - 10 years', '2 - 4 years', '21 - 30 years',\n",
       "       '11 - 20 years', '1 year or less', '41 years or more',\n",
       "       '31 - 40 years'], dtype=object)"
      ]
     },
     "execution_count": 13,
     "metadata": {},
     "output_type": "execute_result"
    }
   ],
   "source": [
    "donnees['work_year'].unique()"
   ]
  },
  {
   "cell_type": "code",
   "execution_count": 14,
   "id": "db7b697e",
   "metadata": {},
   "outputs": [
    {
     "data": {
      "text/plain": [
       "11 - 20 years       6525\n",
       "5-7 years           6506\n",
       "2 - 4 years         6236\n",
       "8 - 10 years        4966\n",
       "21 - 30 years       1866\n",
       "1 year or less      1469\n",
       "31 - 40 years        381\n",
       "41 years or more      40\n",
       "Name: year_field, dtype: int64"
      ]
     },
     "execution_count": 14,
     "metadata": {},
     "output_type": "execute_result"
    }
   ],
   "source": [
    "donnees['year_field'].value_counts()"
   ]
  },
  {
   "cell_type": "code",
   "execution_count": 15,
   "id": "d26bb167",
   "metadata": {},
   "outputs": [
    {
     "name": "stdout",
     "output_type": "stream",
     "text": [
      "2\n",
      "1\n",
      "5\n",
      "4\n",
      "0\n",
      "3\n",
      "6\n",
      "7\n"
     ]
    }
   ],
   "source": [
    "replace_dict = {\n",
    "    '1 year or less': 0,\n",
    "    '2 - 4 years': 1,\n",
    "    '5-7 years': 2,\n",
    "    '8 - 10 years': 3,\n",
    "    '11 - 20 years': 4,\n",
    "    '21 - 30 years': 5,\n",
    "    '31 - 40 years': 6,\n",
    "    '41 years or more': 7\n",
    "}\n",
    "\n",
    "donnees['year_field'] = donnees['year_field'].replace(replace_dict)\n",
    "for a in donnees['year_field'].unique():\n",
    "    print(a)"
   ]
  },
  {
   "cell_type": "code",
   "execution_count": 16,
   "id": "16a507d2",
   "metadata": {},
   "outputs": [
    {
     "data": {
      "text/plain": [
       "Woman                            21336\n",
       "Man                               5450\n",
       "Non-binary                         742\n",
       "Other or prefer not to answer      293\n",
       "Prefer not to answer                 1\n",
       "Name: gender, dtype: int64"
      ]
     },
     "execution_count": 16,
     "metadata": {},
     "output_type": "execute_result"
    }
   ],
   "source": [
    "occurrences = donnees['gender'].value_counts()\n",
    "occurrences"
   ]
  },
  {
   "cell_type": "code",
   "execution_count": 17,
   "id": "353a8842",
   "metadata": {},
   "outputs": [
    {
     "name": "stdout",
     "output_type": "stream",
     "text": [
      "Timestamp             0.000000\n",
      "age                   0.000000\n",
      "industry              0.002572\n",
      "job                   0.000000\n",
      "complement_job        0.741327\n",
      "annual_salary         0.000000\n",
      "aditional_salary      0.259745\n",
      "currency              0.000000\n",
      "other_currency        0.992890\n",
      "additional_context    0.891565\n",
      "country               0.000000\n",
      "state                 0.178499\n",
      "city                  0.002715\n",
      "work_year             0.000000\n",
      "year_field            0.000000\n",
      "educational_level     0.007717\n",
      "gender                0.005967\n",
      "race                  0.006145\n",
      "dtype: float64\n"
     ]
    }
   ],
   "source": [
    "print(donnees.isnull().mean())"
   ]
  },
  {
   "cell_type": "code",
   "execution_count": 18,
   "id": "95c1ed7f",
   "metadata": {},
   "outputs": [],
   "source": [
    "# Compter le nombre de personnes dans chaque tranche d'âge\n",
    "nombre_personnes_par_age = donnees['age'].value_counts()\n"
   ]
  },
  {
   "cell_type": "code",
   "execution_count": 19,
   "id": "8c8996d7",
   "metadata": {},
   "outputs": [
    {
     "data": {
      "image/png": "[encoded data removed]",
      "text/plain": [
       "<Figure size 800x400 with 1 Axes>"
      ]
     },
     "metadata": {},
     "output_type": "display_data"
    }
   ],
   "source": [
    "# Affichage graphique du nombre de personnes dans chaque tranche d'âge (histogramme)\n",
    "plt.figure(figsize=(8, 4))\n",
    "donnees['age'].value_counts().plot(kind='bar', color='skyblue')\n",
    "plt.xlabel('Tranche d\\'âge')\n",
    "plt.ylabel('Nombre de personnes')\n",
    "plt.title('Répartition du nombre de personnes par tranche d\\'âge')\n",
    "plt.xticks(rotation=45)\n",
    "plt.tight_layout()\n",
    "plt.show()"
   ]
  },
  {
   "cell_type": "code",
   "execution_count": 20,
   "id": "ae4b2adc",
   "metadata": {},
   "outputs": [],
   "source": [
    "# Compter le nombre de personnes dans chaque genre\n",
    "nombre_personnes_par_genre = donnees['gender'].value_counts()\n"
   ]
  },
  {
   "cell_type": "code",
   "execution_count": 21,
   "id": "e6fc4f9b",
   "metadata": {},
   "outputs": [
    {
     "data": {
      "image/png": "[encoded data removed]",
      "text/plain": [
       "<Figure size 800x600 with 1 Axes>"
      ]
     },
     "metadata": {},
     "output_type": "display_data"
    }
   ],
   "source": [
    "# Créer un graphique à barres pour représenter le nombre de personnes par genre\n",
    "plt.figure(figsize=(8, 6))\n",
    "nombre_personnes_par_genre.plot(kind='bar', color='skyblue')\n",
    "plt.xlabel('Genre')\n",
    "plt.ylabel('Nombre de personnes')\n",
    "plt.title('Répartition du nombre de personnes par genre')\n",
    "plt.xticks(rotation=8)\n",
    "plt.tight_layout()\n",
    "plt.show()"
   ]
  },
  {
   "cell_type": "code",
   "execution_count": 22,
   "id": "e70211c1",
   "metadata": {},
   "outputs": [
    {
     "data": {
      "text/html": [
       "<div>\n",
       "<style scoped>\n",
       "    .dataframe tbody tr th:only-of-type {\n",
       "        vertical-align: middle;\n",
       "    }\n",
       "\n",
       "    .dataframe tbody tr th {\n",
       "        vertical-align: top;\n",
       "    }\n",
       "\n",
       "    .dataframe thead th {\n",
       "        text-align: right;\n",
       "    }\n",
       "</style>\n",
       "<table border=\"1\" class=\"dataframe\">\n",
       "  <thead>\n",
       "    <tr style=\"text-align: right;\">\n",
       "      <th></th>\n",
       "      <th>Timestamp</th>\n",
       "      <th>age</th>\n",
       "      <th>industry</th>\n",
       "      <th>job</th>\n",
       "      <th>complement_job</th>\n",
       "      <th>annual_salary</th>\n",
       "      <th>aditional_salary</th>\n",
       "      <th>currency</th>\n",
       "      <th>other_currency</th>\n",
       "      <th>additional_context</th>\n",
       "      <th>country</th>\n",
       "      <th>state</th>\n",
       "      <th>city</th>\n",
       "      <th>work_year</th>\n",
       "      <th>year_field</th>\n",
       "      <th>educational_level</th>\n",
       "      <th>gender</th>\n",
       "      <th>race</th>\n",
       "    </tr>\n",
       "  </thead>\n",
       "  <tbody>\n",
       "  </tbody>\n",
       "</table>\n",
       "</div>"
      ],
      "text/plain": [
       "Empty DataFrame\n",
       "Columns: [Timestamp, age, industry, job, complement_job, annual_salary, aditional_salary, currency, other_currency, additional_context, country, state, city, work_year, year_field, educational_level, gender, race]\n",
       "Index: []"
      ]
     },
     "execution_count": 22,
     "metadata": {},
     "output_type": "execute_result"
    }
   ],
   "source": [
    "cc=donnees[donnees['currency'].isnull()]\n",
    "cc"
   ]
  },
  {
   "cell_type": "code",
   "execution_count": 23,
   "id": "b19d58b1",
   "metadata": {},
   "outputs": [
    {
     "data": {
      "text/plain": [
       "157"
      ]
     },
     "execution_count": 23,
     "metadata": {},
     "output_type": "execute_result"
    }
   ],
   "source": [
    "other_curr= donnees['currency'].value_counts().get('Other',0)\n",
    "other_curr"
   ]
  },
  {
   "cell_type": "code",
   "execution_count": 24,
   "id": "517e561f",
   "metadata": {},
   "outputs": [
    {
     "data": {
      "text/plain": [
       "array([nan, 'INR', 'Peso Argentino', '$76,302.34',\n",
       "       'My bonus is based on performance up to 10% of salary',\n",
       "       'I work for an online state university, managing admissions data. Not direct tech support. ',\n",
       "       '0', 'MYR', 'CHF', 'KWD', 'NOK', 'Na ', 'USD', 'BR$', 'SEK',\n",
       "       'Base plus Commission ', 'canadian', 'Dkk', 'EUR', 'COP', 'TTD',\n",
       "       'Indian rupees', 'BRL (R$)', 'Mexican pesos', 'CZK', 'GBP', 'DKK',\n",
       "       'Bdt', 'RSU / equity', 'ZAR', 'Additonal = Bonus plus stock',\n",
       "       'American Dollars', 'Php', 'PLN (Polish zloty)',\n",
       "       'Overtime (about 5 hours a week) and bonus', 'czech crowns',\n",
       "       'Stock ', 'TRY', 'Norwegian kroner (NOK)', 'CNY', 'ILS/NIS',\n",
       "       '55,000', 'AUD & NZD are not the same currency...', 'US Dollar',\n",
       "       'Canadian ', 'AUD', 'BRL', 'NIS (new Israeli shekel)', '-',\n",
       "       'RMB (chinese yuan)', 'Taiwanese dollars',\n",
       "       \"AUD and NZD aren't the same currency, and have absolutely nothing to do with each other :(\",\n",
       "       'NZD', 'Philippine Peso', 'SGD', 'KRW (Korean Won)', 'Czk', 'THB',\n",
       "       'IDR ', 'Sgd', 'Nok', 'ILS (Shekel)',\n",
       "       '6000 in stock grants annually', 'DKK ', 'China RMB',\n",
       "       'AUD Australian ', 'LKR', 'Polish Złoty', 'Philippine peso (PHP)',\n",
       "       'Australian Dollars ', 'PHP',\n",
       "       'Many non-salary benefits - travel, free healthcare for self, very low for family, non-taxable housing allowance ',\n",
       "       'Equity',\n",
       "       'It’s marketed as £22000 but we get paid pro-rats, so no pay for the school holidays.',\n",
       "       'additional compensation is for overtime (i am paid hourly) so it varies. i have included an estimate',\n",
       "       'ARS', 'Argentinian peso (ARS)', 'Israeli Shekels', 'ILS', 'MXN',\n",
       "       'PhP (Philippine Peso)',\n",
       "       'Converted mine into USD for your easyness', 'PLN', 'KRW', 'SAR',\n",
       "       'RM', 'IDR', 'None', 'Argentine Peso', 'Philippine Pesos', 'Ils',\n",
       "       'Rs', 'INR (Indian Rupee)', 'NTD', 'Danish Kroner', 'CAD',\n",
       "       'Korean Won ', 'dkk', 'Euro', 'SGD ', 'Mexican Pesos',\n",
       "       'THAI  BAHT',\n",
       "       'Option to get 2x or 1.5x if taking on a weekend day in the summer',\n",
       "       'Thai Baht ', '47000', 'na', 'Canadian', 'N/a',\n",
       "       'up to 12% annual bonus', 'croatian kuna', 'PLN (Zwoty)', '5',\n",
       "       'Rupees', 'Singapore Dollara', 'NGN', 'pkr', 'Zar'], dtype=object)"
      ]
     },
     "execution_count": 24,
     "metadata": {},
     "output_type": "execute_result"
    }
   ],
   "source": [
    "OtherCurr=donnees['other_currency'].unique()\n",
    "OtherCurr"
   ]
  },
  {
   "cell_type": "markdown",
   "id": "6579287a",
   "metadata": {},
   "source": [
    "<h4> on constate que dans cette colonne 'other_currency', les valeurs renseignées sont pas toujours bonnes, donc il faut un traitement supplémentaire pour les remplacer et corriger</h4>"
   ]
  },
  {
   "cell_type": "code",
   "execution_count": 22,
   "id": "4813c80b",
   "metadata": {},
   "outputs": [],
   "source": [
    "#compter les occurences de chaque niveau d'éducation\n",
    "pourcentages_education = donnees['educational_level'].value_counts(normalize=True) * 100"
   ]
  },
  {
   "cell_type": "code",
   "execution_count": 26,
   "id": "8e26a8a0",
   "metadata": {},
   "outputs": [
    {
     "data": {
      "image/png": "[encoded data removed]",
      "text/plain": [
       "<Figure size 800x300 with 1 Axes>"
      ]
     },
     "metadata": {},
     "output_type": "display_data"
    }
   ],
   "source": [
    "# Create a bar plot\n",
    "plt.figure(figsize=(8, 3))\n",
    "sns.barplot(x=pourcentages_education.index, y=pourcentages_education.values, palette=\"viridis\")\n",
    "\n",
    "# Customize the plot\n",
    "plt.title(\"Pourcentages of Education Level\")\n",
    "plt.xlabel(\"Education Level\")\n",
    "plt.ylabel(\"Count\")\n",
    "plt.xticks(rotation=45)\n",
    "\n",
    "# Display the plot\n",
    "plt.show()\n",
    "\n"
   ]
  },
  {
   "cell_type": "code",
   "execution_count": 27,
   "id": "5806b74a",
   "metadata": {},
   "outputs": [],
   "source": [
    "#créer un tableau croisé pour compter les occurences de chaque niveau d'éducation pour genre\n",
    "tableau_croise_educ_gender = pd.crosstab(donnees['educational_level'], donnees['gender'])"
   ]
  },
  {
   "cell_type": "code",
   "execution_count": 28,
   "id": "eb9a94d5",
   "metadata": {},
   "outputs": [
    {
     "data": {
      "text/html": [
       "<div>\n",
       "<style scoped>\n",
       "    .dataframe tbody tr th:only-of-type {\n",
       "        vertical-align: middle;\n",
       "    }\n",
       "\n",
       "    .dataframe tbody tr th {\n",
       "        vertical-align: top;\n",
       "    }\n",
       "\n",
       "    .dataframe thead th {\n",
       "        text-align: right;\n",
       "    }\n",
       "</style>\n",
       "<table border=\"1\" class=\"dataframe\">\n",
       "  <thead>\n",
       "    <tr style=\"text-align: right;\">\n",
       "      <th>gender</th>\n",
       "      <th>Man</th>\n",
       "      <th>Non-binary</th>\n",
       "      <th>Other or prefer not to answer</th>\n",
       "      <th>Prefer not to answer</th>\n",
       "      <th>Woman</th>\n",
       "    </tr>\n",
       "    <tr>\n",
       "      <th>educational_level</th>\n",
       "      <th></th>\n",
       "      <th></th>\n",
       "      <th></th>\n",
       "      <th></th>\n",
       "      <th></th>\n",
       "    </tr>\n",
       "  </thead>\n",
       "  <tbody>\n",
       "    <tr>\n",
       "      <th>College degree</th>\n",
       "      <td>2706</td>\n",
       "      <td>372</td>\n",
       "      <td>152</td>\n",
       "      <td>0</td>\n",
       "      <td>10208</td>\n",
       "    </tr>\n",
       "    <tr>\n",
       "      <th>High School</th>\n",
       "      <td>250</td>\n",
       "      <td>19</td>\n",
       "      <td>8</td>\n",
       "      <td>0</td>\n",
       "      <td>358</td>\n",
       "    </tr>\n",
       "    <tr>\n",
       "      <th>Master's degree</th>\n",
       "      <td>1397</td>\n",
       "      <td>213</td>\n",
       "      <td>80</td>\n",
       "      <td>0</td>\n",
       "      <td>7104</td>\n",
       "    </tr>\n",
       "    <tr>\n",
       "      <th>PhD</th>\n",
       "      <td>277</td>\n",
       "      <td>23</td>\n",
       "      <td>16</td>\n",
       "      <td>1</td>\n",
       "      <td>1097</td>\n",
       "    </tr>\n",
       "    <tr>\n",
       "      <th>Professional degree (MD, JD, etc.)</th>\n",
       "      <td>190</td>\n",
       "      <td>17</td>\n",
       "      <td>12</td>\n",
       "      <td>0</td>\n",
       "      <td>1091</td>\n",
       "    </tr>\n",
       "    <tr>\n",
       "      <th>Some college</th>\n",
       "      <td>588</td>\n",
       "      <td>96</td>\n",
       "      <td>21</td>\n",
       "      <td>0</td>\n",
       "      <td>1348</td>\n",
       "    </tr>\n",
       "  </tbody>\n",
       "</table>\n",
       "</div>"
      ],
      "text/plain": [
       "gender                               Man  Non-binary  \\\n",
       "educational_level                                      \n",
       "College degree                      2706         372   \n",
       "High School                          250          19   \n",
       "Master's degree                     1397         213   \n",
       "PhD                                  277          23   \n",
       "Professional degree (MD, JD, etc.)   190          17   \n",
       "Some college                         588          96   \n",
       "\n",
       "gender                              Other or prefer not to answer  \\\n",
       "educational_level                                                   \n",
       "College degree                                                152   \n",
       "High School                                                     8   \n",
       "Master's degree                                                80   \n",
       "PhD                                                            16   \n",
       "Professional degree (MD, JD, etc.)                             12   \n",
       "Some college                                                   21   \n",
       "\n",
       "gender                              Prefer not to answer  Woman  \n",
       "educational_level                                                \n",
       "College degree                                         0  10208  \n",
       "High School                                            0    358  \n",
       "Master's degree                                        0   7104  \n",
       "PhD                                                    1   1097  \n",
       "Professional degree (MD, JD, etc.)                     0   1091  \n",
       "Some college                                           0   1348  "
      ]
     },
     "execution_count": 28,
     "metadata": {},
     "output_type": "execute_result"
    }
   ],
   "source": [
    "tableau_croise_educ_gender"
   ]
  },
  {
   "cell_type": "code",
   "execution_count": 29,
   "id": "e8a88050",
   "metadata": {},
   "outputs": [
    {
     "data": {
      "text/plain": [
       "<Figure size 1000x600 with 0 Axes>"
      ]
     },
     "metadata": {},
     "output_type": "display_data"
    },
    {
     "data": {
      "image/png": "[encoded data removed]",
      "text/plain": [
       "<Figure size 640x480 with 1 Axes>"
      ]
     },
     "metadata": {},
     "output_type": "display_data"
    }
   ],
   "source": [
    "# Créer un graphique à barres groupées pour représenter le niveau d'éducation par genre\n",
    "plt.figure(figsize=(10, 6))\n",
    "#tableau_croise_educ_gender.plot(kind='bar', alpha=0.8)\n",
    "tableau_croise_educ_gender.plot(kind='bar', colormap='Set2', alpha=0.8)\n",
    "plt.xlabel('Niveau d\\'éducation')\n",
    "plt.ylabel('Nombre de personnes')\n",
    "plt.title('Niveau d\\'éducation par genre')\n",
    "plt.xticks(rotation=45, ha='right')\n",
    "plt.legend(title='Genre')\n",
    "plt.tight_layout()\n",
    "plt.show()"
   ]
  },
  {
   "cell_type": "code",
   "execution_count": 30,
   "id": "b63f42bc",
   "metadata": {},
   "outputs": [],
   "source": [
    "# Créer un tableau croisé pour compter les occurrences de chaque race par genre\n",
    "tableau_croise_race_gender = pd.crosstab(donnees['race'], donnees['gender'])"
   ]
  },
  {
   "cell_type": "code",
   "execution_count": 31,
   "id": "78e55e56",
   "metadata": {},
   "outputs": [],
   "source": [
    "# Créer un tableau croisé pour compter les occurrences de chaque race par niveau d'éducation\n",
    "tableau_croise_race_education = pd.crosstab(donnees['race'], donnees['educational_level'])\n"
   ]
  },
  {
   "cell_type": "code",
   "execution_count": 32,
   "id": "9d77a614",
   "metadata": {},
   "outputs": [],
   "source": [
    "# Supprimer les valeurs nulles dans la colonne 'annual_salary' et 'gender'\n",
    "donnees = donnees.dropna(subset=['annual_salary', 'gender'])\n"
   ]
  },
  {
   "cell_type": "markdown",
   "id": "89407e4e",
   "metadata": {},
   "source": [
    "# QUESTION 2 : DATA ITERPRETATION AND DATA ANALYSIS/MINING PROBLEMS"
   ]
  },
  {
   "cell_type": "markdown",
   "id": "91cff357",
   "metadata": {},
   "source": [
    "# The representation of each feature :\n",
    "La dataset \"Ask-A-Manager Salary Survey 2021\" recueille des données salariales de professionnels par le biais \n",
    "d'une enquête en ligne. Les caractéristiques incluent principalements 3 catégories d'informations : \n",
    "\n",
    "- Des informations démographiques telles que : l'âge, le genre et la localisation; \n",
    "\n",
    "- Des détails professionnels comme :l'industrie, le titre du poste et les années d'expérience;\n",
    "\n",
    "- Ainsi que des informations salariales telles que :le salaire annuel et les bonus."
   ]
  },
  {
   "cell_type": "markdown",
   "id": "855f02b3",
   "metadata": {},
   "source": [
    "# The features who are informative and interesting to keep :\n",
    "Parmis ces informations, les caractéristiques interessantes sont entres autres  : \n",
    "    \n",
    "- Annual Salary: Il s'agit de la variable cible de la modélisation prédictive. Prédire les salaires sur la base d’autres\n",
    "caractéristiques pourrait constituer un problème de régression.\n",
    "\n",
    "- Year of experience: Utile pour comprendre la corrélation entre l'expérience et le salaire et aussi pour prédire le salaire.\n",
    "\n",
    "- Job Title: Important pour explorer les différences de salaire entre différents titres de poste et potentiellement prédire le salaire en fonction des fonctions.\n",
    "    \n",
    "- Industry Work: Utile pour analyser les variations de salaire entre différents secteurs et pour prédire les salaires en   fonction du secteur.\n",
    "\n",
    "- Your Work Country:Utile pour comprendre les différences salariales régionales et pour prédire le salaire en fonction de la situation géographique.\n",
    "\n",
    "- Gender: Important pour enquêter sur les écarts de rémunération entre hommes et femmes et les biais potentiels en matière de salaire. Il peut être utilisé dans des modèles soucieux de l’équité.\n",
    "\n",
    "- Education level: Pertinent pour explorer l’impact de l’éducation sur le salaire et pour prédire le salaire en fonction du niveau d’éducation."
   ]
  },
  {
   "cell_type": "markdown",
   "id": "907efed7",
   "metadata": {},
   "source": [
    "# For what kind of learning problems could you use this data set :\n",
    "\n",
    "Avec ces données on peut appliquer differents types d'algorithme de marchine learning : \n",
    "- La régression : On pourra utiliser  les caractéristiques numériques (tellesque: l'années d'expérience, le niveau d'éducation) pour prédire le salaire, afin de comprendre les facteurs influençant les revenus.\n",
    "\n",
    "- La classification : Pour prédire les catégories de postes en fonction d'éléments tels que l'intitulé du poste, l'éducation. Cela peut aider à identifier des similitudes au sein de groupes professionnels spécifiques.\n",
    " \n",
    "- Clustering :On peut appliquer des algorithmes de  clustering pour identifier des groupes de professionnels ayant des caractéristiques similaires"
   ]
  },
  {
   "cell_type": "markdown",
   "id": "c6966e38",
   "metadata": {},
   "source": [
    "# Question 4: Data cleaning: Apply data cleaning solutions to repair the dataset"
   ]
  },
  {
   "cell_type": "markdown",
   "id": "ae1e088f",
   "metadata": {},
   "source": [
    "<h3>changer les valeurs de gender</h3>"
   ]
  },
  {
   "cell_type": "code",
   "execution_count": 33,
   "id": "1bcf04d1",
   "metadata": {},
   "outputs": [],
   "source": [
    "donnees.dropna(subset=['gender'], inplace=True)"
   ]
  },
  {
   "cell_type": "code",
   "execution_count": 34,
   "id": "189ef53e",
   "metadata": {},
   "outputs": [],
   "source": [
    "donnees['gender'] = donnees['gender'].replace(['Woman'],'Female')"
   ]
  },
  {
   "cell_type": "code",
   "execution_count": 35,
   "id": "f3de5732",
   "metadata": {},
   "outputs": [],
   "source": [
    "donnees['gender'] = donnees['gender'].replace(['Man'],'Male')"
   ]
  },
  {
   "cell_type": "markdown",
   "id": "b8e40409",
   "metadata": {},
   "source": [
    "<h3>supprimer les valeurs redondantes</h3> :\n"
   ]
  },
  {
   "cell_type": "code",
   "execution_count": 36,
   "id": "6b8c137d",
   "metadata": {},
   "outputs": [
    {
     "data": {
      "text/plain": [
       "(27822, 18)"
      ]
     },
     "execution_count": 36,
     "metadata": {},
     "output_type": "execute_result"
    }
   ],
   "source": [
    "donnees.shape"
   ]
  },
  {
   "cell_type": "code",
   "execution_count": 37,
   "id": "369efec9",
   "metadata": {},
   "outputs": [
    {
     "data": {
      "text/plain": [
       "(27822, 18)"
      ]
     },
     "execution_count": 37,
     "metadata": {},
     "output_type": "execute_result"
    }
   ],
   "source": [
    "data =donnees.drop_duplicates()\n",
    "data.shape"
   ]
  },
  {
   "cell_type": "code",
   "execution_count": 38,
   "id": "3abfd571",
   "metadata": {},
   "outputs": [
    {
     "data": {
      "text/plain": [
       "[' New Zealand',\n",
       " ' U.S.',\n",
       " ' US',\n",
       " ' United States',\n",
       " '$2,175.84/year is deducted for benefits',\n",
       " 'ARGENTINA BUT MY ORG IS IN THAILAND',\n",
       " 'Afghanistan',\n",
       " 'Africa',\n",
       " 'America',\n",
       " 'Aotearoa New Zealand',\n",
       " 'Argentina',\n",
       " 'Australi',\n",
       " 'Australia',\n",
       " 'Australia ',\n",
       " 'Australian ',\n",
       " 'Austria',\n",
       " 'Austria, but I work remotely for a Dutch/British company',\n",
       " 'Bangladesh',\n",
       " 'Bangladesh ',\n",
       " 'Belgium',\n",
       " 'Belgium ',\n",
       " 'Bermuda',\n",
       " 'Bosnia and Herzegovina',\n",
       " 'Brasil',\n",
       " 'Brazil',\n",
       " 'Brazil ',\n",
       " 'Britain ',\n",
       " 'Bulgaria',\n",
       " 'CANADA',\n",
       " 'CANADA ',\n",
       " 'California ',\n",
       " 'Cambodia',\n",
       " 'Can',\n",
       " 'Canad',\n",
       " 'Canada',\n",
       " 'Canada ',\n",
       " 'Canada and USA',\n",
       " 'Canada, Ottawa, ontario',\n",
       " 'Canadw',\n",
       " 'Canadá',\n",
       " 'Canda',\n",
       " 'Catalonia',\n",
       " 'Cayman Islands',\n",
       " 'Chile',\n",
       " 'China',\n",
       " 'Colombia',\n",
       " 'Company in Germany. I work from Pakistan.',\n",
       " 'Congo',\n",
       " 'Contracts',\n",
       " 'Costa Rica',\n",
       " \"Cote d'Ivoire\",\n",
       " 'Croatia ',\n",
       " 'Csnada',\n",
       " 'Cuba',\n",
       " 'Currently finance',\n",
       " 'Cyprus',\n",
       " 'Czech Republic',\n",
       " 'Czech Republic ',\n",
       " 'Czech republic',\n",
       " 'Czechia',\n",
       " 'Danmark',\n",
       " 'Denmark',\n",
       " 'Denmark ',\n",
       " 'ENGLAND',\n",
       " 'Ecuador',\n",
       " 'England',\n",
       " 'England ',\n",
       " 'England, Gb',\n",
       " 'England, UK',\n",
       " 'England, UK.',\n",
       " 'England, United Kingdom',\n",
       " 'England, United Kingdom ',\n",
       " 'England/UK',\n",
       " 'Englang',\n",
       " 'Eritrea',\n",
       " 'Estonia',\n",
       " 'FRANCE',\n",
       " 'Finland',\n",
       " 'For the United States government, but posted overseas',\n",
       " 'France',\n",
       " 'France ',\n",
       " 'From New Zealand but on projects across APAC',\n",
       " 'From Romania, but for an US based company',\n",
       " 'Germany',\n",
       " 'Germany ',\n",
       " 'Ghana',\n",
       " 'Global',\n",
       " 'Great Britain',\n",
       " 'Great Britain ',\n",
       " 'Greece',\n",
       " 'Hartford',\n",
       " 'Hong Kong',\n",
       " 'Hong Kong ',\n",
       " 'Hungary',\n",
       " 'I am located in Canada but I work for a company in the US',\n",
       " \"I earn commission on sales. If I meet quota, I'm guaranteed another 16k min. Last year i earned an additional 27k. It's not uncommon for people in my space to earn 100k+ after commission. \",\n",
       " 'I was brought in on this salary to help with the EHR and very quickly was promoted to current position but compensation was not altered. ',\n",
       " 'I work for a UAE-based organization, though I am personally in the US.',\n",
       " \"I work for an US based company but I'm from Argentina.\",\n",
       " 'I.S.',\n",
       " 'INDIA',\n",
       " 'IS',\n",
       " 'ISA',\n",
       " 'India',\n",
       " 'Indonesia',\n",
       " 'International ',\n",
       " 'Ireland',\n",
       " 'Ireland ',\n",
       " 'Isle of Man',\n",
       " 'Israel',\n",
       " 'Italy',\n",
       " 'Italy (South)',\n",
       " 'Jamaica',\n",
       " 'Japan',\n",
       " 'Japan ',\n",
       " 'Japan, US Gov position',\n",
       " 'Jersey, Channel islands',\n",
       " 'Jordan',\n",
       " 'Kenya',\n",
       " 'Kuwait',\n",
       " 'Latvia',\n",
       " 'Liechtenstein',\n",
       " 'Lithuania',\n",
       " 'Luxembourg',\n",
       " 'Luxemburg',\n",
       " 'Mainland China',\n",
       " 'Malaysia',\n",
       " 'Malaysia ',\n",
       " 'Malta',\n",
       " 'Mexico',\n",
       " 'Mexico ',\n",
       " 'Morocco',\n",
       " 'México',\n",
       " 'NIGERIA',\n",
       " 'NL',\n",
       " 'NZ',\n",
       " 'Nederland',\n",
       " 'Netherlands',\n",
       " 'Netherlands ',\n",
       " 'New Zealand',\n",
       " 'New Zealand ',\n",
       " 'New Zealand Aotearoa',\n",
       " 'New zealand',\n",
       " 'Nigeria',\n",
       " 'Northern Ireland',\n",
       " 'Northern Ireland ',\n",
       " 'Northern Ireland, United Kingdom',\n",
       " 'Norway',\n",
       " 'Norway ',\n",
       " 'Pakistan',\n",
       " 'Panamá',\n",
       " 'Philippines',\n",
       " 'Poland',\n",
       " 'Poland ',\n",
       " 'Policy',\n",
       " 'Portugal',\n",
       " 'Portugal ',\n",
       " 'Puerto Rico',\n",
       " 'Puerto Rico ',\n",
       " 'Qatar',\n",
       " 'Remote',\n",
       " 'Remote (philippines)',\n",
       " 'Romania',\n",
       " 'Russia ',\n",
       " 'Rwanda',\n",
       " 'SWITZERLAND',\n",
       " 'San Francisco',\n",
       " 'Saudi Arabia',\n",
       " 'Scotland',\n",
       " 'Scotland ',\n",
       " 'Scotland, UK',\n",
       " 'Serbia',\n",
       " 'Sierra Leone',\n",
       " 'Singapore',\n",
       " 'Singapore ',\n",
       " 'Slovakia',\n",
       " 'Slovenia',\n",
       " 'Somalia',\n",
       " 'South Africa',\n",
       " 'South Africa ',\n",
       " 'South Korea',\n",
       " 'South Korea ',\n",
       " 'South africa',\n",
       " 'Spain',\n",
       " 'Spain ',\n",
       " 'Sri Lanka',\n",
       " 'Sri lanka',\n",
       " 'Sweden',\n",
       " 'Sweden ',\n",
       " 'Switzerland',\n",
       " 'Switzerland ',\n",
       " 'Taiwan',\n",
       " 'Thailand',\n",
       " 'The Bahamas ',\n",
       " 'The Netherlands',\n",
       " 'The Netherlands ',\n",
       " 'The US',\n",
       " 'The United States',\n",
       " 'The netherlands',\n",
       " 'Trinidad and Tobago',\n",
       " 'Turkey',\n",
       " 'U. S ',\n",
       " 'U. S.',\n",
       " 'U. S. ',\n",
       " 'U.A.',\n",
       " 'U.K',\n",
       " 'U.K.',\n",
       " 'U.K. ',\n",
       " 'U.K. (northern England)',\n",
       " 'U.S',\n",
       " 'U.S.',\n",
       " 'U.S. ',\n",
       " 'U.S.A',\n",
       " 'U.S.A ',\n",
       " 'U.S.A.',\n",
       " 'U.S.A. ',\n",
       " 'U.S>',\n",
       " 'U.SA',\n",
       " 'U.s.',\n",
       " 'U.s.a.',\n",
       " 'UA',\n",
       " 'UAE',\n",
       " 'UK',\n",
       " 'UK ',\n",
       " 'UK (England)',\n",
       " 'UK (Northern Ireland)',\n",
       " 'UK for U.S. company',\n",
       " 'UK, but for globally fully remote company',\n",
       " 'UK, remote',\n",
       " 'UNITED STATES',\n",
       " 'UNited States',\n",
       " 'US',\n",
       " 'US ',\n",
       " 'US govt employee overseas, country withheld',\n",
       " 'US of A',\n",
       " 'USA',\n",
       " 'USA ',\n",
       " 'USA (company is based in a US territory, I work remote)',\n",
       " 'USA tomorrow ',\n",
       " \"USA, but for foreign gov't\",\n",
       " 'USA-- Virgin Islands',\n",
       " 'USAB',\n",
       " 'USD',\n",
       " 'USS',\n",
       " 'USaa',\n",
       " 'UXZ',\n",
       " 'Uganda',\n",
       " 'Uk',\n",
       " 'Uk ',\n",
       " 'Ukraine ',\n",
       " 'Uniited States',\n",
       " 'Unite States',\n",
       " 'United  States',\n",
       " 'United Arab Emirates ',\n",
       " 'United Kindom',\n",
       " 'United Kingdom',\n",
       " 'United Kingdom ',\n",
       " 'United Kingdom (England)',\n",
       " 'United Kingdom.',\n",
       " 'United Kingdomk',\n",
       " 'United STates',\n",
       " 'United Sates',\n",
       " 'United Sates of America',\n",
       " 'United Stares',\n",
       " 'United Stares ',\n",
       " 'United State',\n",
       " 'United State of America',\n",
       " 'United Statea',\n",
       " 'United Stated',\n",
       " 'United Stateds',\n",
       " 'United Statees',\n",
       " 'United States',\n",
       " 'United States ',\n",
       " 'United States (I work from home and my clients are all over the US/Canada/PR',\n",
       " 'United States Of America',\n",
       " 'United States is America',\n",
       " 'United States of America',\n",
       " 'United States of America ',\n",
       " 'United States of American',\n",
       " 'United States of American ',\n",
       " 'United States of Americas',\n",
       " 'United States of america',\n",
       " 'United States of america ',\n",
       " 'United States- Puerto Rico',\n",
       " 'United Statesp',\n",
       " 'United Statss',\n",
       " 'United Stattes',\n",
       " 'United Statues',\n",
       " 'United Status',\n",
       " 'United Statws',\n",
       " 'United Sttes',\n",
       " 'United kingdom',\n",
       " 'United kingdom ',\n",
       " 'United states',\n",
       " 'United states ',\n",
       " 'United states of America',\n",
       " 'United states of America ',\n",
       " 'United states of america',\n",
       " 'United statew',\n",
       " 'United y',\n",
       " 'UnitedStates',\n",
       " 'Uniteed States',\n",
       " 'Unitef Stated',\n",
       " 'Uniter Statez',\n",
       " 'Unites States',\n",
       " 'Unites States ',\n",
       " 'Unites kingdom ',\n",
       " 'Unites states ',\n",
       " 'Unitied States',\n",
       " 'Uniyed states',\n",
       " 'Uniyes States',\n",
       " 'Unted States',\n",
       " 'Untied States',\n",
       " 'Uruguay',\n",
       " 'Us',\n",
       " 'Us ',\n",
       " 'UsA',\n",
       " 'Usa',\n",
       " 'Usa ',\n",
       " 'Usat',\n",
       " 'Vietnam',\n",
       " 'Virginia',\n",
       " 'Wales',\n",
       " 'Wales (UK)',\n",
       " 'Wales (United Kingdom)',\n",
       " 'Wales, UK',\n",
       " \"We don't get raises, we get quarterly bonuses, but they periodically asses income in the area you work, so I got a raise because a 3rd party assessment showed I was paid too little for the area we were located\",\n",
       " 'Worldwide (based in US but short term trips aroudn the world)',\n",
       " 'Y',\n",
       " 'Zimbabwe',\n",
       " 'america',\n",
       " 'australia',\n",
       " 'canada',\n",
       " 'croatia',\n",
       " 'czech republic',\n",
       " 'denmark',\n",
       " 'england',\n",
       " 'europe',\n",
       " 'finland',\n",
       " 'france',\n",
       " 'germany',\n",
       " 'hong konh',\n",
       " 'ireland',\n",
       " 'japan',\n",
       " 'n/a (remote from wherever I want)',\n",
       " 'na',\n",
       " 'netherlands',\n",
       " 'new zealand',\n",
       " 'pakistan',\n",
       " 'singapore',\n",
       " 'spain',\n",
       " 'switzerland',\n",
       " 'the Netherlands',\n",
       " 'the netherlands',\n",
       " 'u.s.',\n",
       " 'uS',\n",
       " 'uSA',\n",
       " 'uk',\n",
       " 'united States',\n",
       " 'united kingdom',\n",
       " 'united stated',\n",
       " 'united states',\n",
       " 'united states ',\n",
       " 'united states of america',\n",
       " 'us',\n",
       " 'usa',\n",
       " 'usa ',\n",
       " '🇺🇸 ']"
      ]
     },
     "execution_count": 38,
     "metadata": {},
     "output_type": "execute_result"
    }
   ],
   "source": [
    "sorted(donnees['country'].unique())"
   ]
  },
  {
   "cell_type": "code",
   "execution_count": 39,
   "id": "078ca74c",
   "metadata": {},
   "outputs": [
    {
     "name": "stdout",
     "output_type": "stream",
     "text": [
      "(27822, 18)\n",
      "(27822, 18)\n"
     ]
    }
   ],
   "source": [
    "print(donnees.shape)\n",
    "donnees_without_duplicates = donnees.drop_duplicates()\n",
    "print(donnees_without_duplicates.shape)"
   ]
  },
  {
   "cell_type": "code",
   "execution_count": 40,
   "id": "06c3e3b9",
   "metadata": {},
   "outputs": [],
   "source": [
    "# Filling NaN or Null values in 'currency' with values from 'other currency'\n",
    "donnees['currency'].fillna(donnees['other_currency'], inplace=True)"
   ]
  },
  {
   "cell_type": "code",
   "execution_count": 41,
   "id": "a74c9620",
   "metadata": {},
   "outputs": [
    {
     "data": {
      "text/plain": [
       "array(['USD', 'GBP', 'CAD', 'EUR', 'AUD/NZD', 'Other', 'CHF', 'ZAR',\n",
       "       'SEK', 'HKD', 'JPY'], dtype=object)"
      ]
     },
     "execution_count": 41,
     "metadata": {},
     "output_type": "execute_result"
    }
   ],
   "source": [
    "donnees['currency'].unique()"
   ]
  },
  {
   "cell_type": "code",
   "execution_count": 42,
   "id": "8fd6bfa2",
   "metadata": {},
   "outputs": [],
   "source": [
    "# Remplacer la valeur 'other' dans la colonne 'currency' par les valeurs correspondantes de 'other_currency'\n",
    "donnees.loc[donnees['currency'] == 'Other', 'currency'] = donnees.loc[donnees['currency'] == 'Other', 'other_currency']"
   ]
  },
  {
   "cell_type": "code",
   "execution_count": 43,
   "id": "7d174415",
   "metadata": {},
   "outputs": [
    {
     "data": {
      "text/plain": [
       "array(['USD', 'GBP', 'CAD', 'EUR', 'AUD/NZD', 'INR', 'Peso Argentino',\n",
       "       'CHF', 'MYR', 'ZAR', 'SEK', 'HKD', 'NOK', 'BR$', 'Dkk', 'TTD',\n",
       "       'Indian rupees', 'BRL (R$)', 'Mexican pesos', 'CZK', 'DKK', 'Bdt',\n",
       "       'American Dollars', 'Php', 'PLN (Polish zloty)', 'czech crowns',\n",
       "       'TRY', 'Norwegian kroner (NOK)', 'CNY', 'ILS/NIS', nan,\n",
       "       'US Dollar', 'BRL', 'NIS (new Israeli shekel)',\n",
       "       'RMB (chinese yuan)', 'AUD', 'JPY', 'Taiwanese dollars',\n",
       "       'Philippine Peso', 'SGD', 'KRW (Korean Won)', 'Czk', 'THB', 'IDR ',\n",
       "       'Sgd', 'Nok', 'NZD', 'ILS (Shekel)', 'DKK ', 'China RMB',\n",
       "       'AUD Australian ', 'LKR', 'Polish Złoty', 'Philippine peso (PHP)',\n",
       "       'Australian Dollars ', 'PHP', 'Equity', 'ARS',\n",
       "       'Argentinian peso (ARS)', 'Israeli Shekels', 'ILS', 'MXN',\n",
       "       'PhP (Philippine Peso)', 'PLN', 'KRW', 'SAR', 'RM', 'IDR',\n",
       "       'Argentine Peso', 'Philippine Pesos', 'Ils', 'INR (Indian Rupee)',\n",
       "       'NTD', 'Danish Kroner', 'Korean Won ', 'dkk', 'Euro', 'SGD ',\n",
       "       'Mexican Pesos', 'THAI  BAHT', 'Thai Baht ', 'croatian kuna',\n",
       "       'PLN (Zwoty)', 'Rupees', 'Singapore Dollara', 'NGN', 'COP'],\n",
       "      dtype=object)"
      ]
     },
     "execution_count": 43,
     "metadata": {},
     "output_type": "execute_result"
    }
   ],
   "source": [
    "donnees['currency'].unique()"
   ]
  },
  {
   "cell_type": "markdown",
   "id": "5b78d289",
   "metadata": {},
   "source": [
    "***Il faut appliquer un traitement sur les currencies qui remplace Taiwanese dollars par son code ISO***"
   ]
  },
  {
   "cell_type": "code",
   "execution_count": 44,
   "id": "8380dc12",
   "metadata": {},
   "outputs": [],
   "source": [
    "# Codes ISO 4217 standard déjà identifiés\n",
    "codes_ISO_standard = ['USD', 'GBP', 'CAD', 'EUR', 'AUD/NZD', 'INR']\n",
    "\n",
    "# Mapping des valeurs non standard vers les codes ISO 4217\n",
    "mapping_non_standard = {\n",
    "    'US Dollar': 'USD',\n",
    "    'American Dollars': 'USD',\n",
    "    'Euro': 'EUR',\n",
    "    'Peso Argentino': 'ARS',\n",
    "    'CHF': 'CHF',\n",
    "    'MYR': 'MYR',\n",
    "    'ZAR': 'ZAR',\n",
    "    'SEK': 'SEK',\n",
    "    'HKD': 'HKD',\n",
    "    'NOK': 'NOK',\n",
    "    'BR$': 'BRL',\n",
    "    'Dkk': 'DKK',\n",
    "    'TTD': 'TTD',\n",
    "    'Indian rupees': 'INR',\n",
    "    'Mexican pesos': 'MXN',\n",
    "    'CZK': 'CZK',\n",
    "    'Bdt': 'BDT',\n",
    "    'Php': 'PHP',\n",
    "    'PLN (Polish zloty)': 'PLN',\n",
    "    'czech crowns': 'CZK',\n",
    "    'TRY': 'TRY',\n",
    "    'Norwegian kroner (NOK)': 'NOK',\n",
    "    'CNY': 'CNY',\n",
    "    'ILS/NIS': 'ILS',\n",
    "    'NIS (new Israeli shekel)': 'ILS',\n",
    "    'RMB (chinese yuan)': 'CNY',\n",
    "    'AUD': 'AUD',\n",
    "    'JPY': 'JPY',\n",
    "    'Taiwanese dollars': 'TWD',\n",
    "    'Philippine Peso': 'PHP',\n",
    "    'SGD': 'SGD',\n",
    "    'KRW (Korean Won)': 'KRW',\n",
    "    'Czk': 'CZK',\n",
    "    'THB': 'THB',\n",
    "    'IDR ': 'IDR',\n",
    "    'Sgd': 'SGD',\n",
    "    'Nok': 'NOK',\n",
    "    'NZD': 'NZD',\n",
    "    'ILS (Shekel)': 'ILS',\n",
    "    'China RMB': 'CNY',\n",
    "    'AUD Australian ': 'AUD',\n",
    "    'LKR': 'LKR',\n",
    "    'Polish Złoty': 'PLN',\n",
    "    'Philippine peso (PHP)': 'PHP',\n",
    "    'Australian Dollars ': 'AUD',\n",
    "    'Equity': 'Other',\n",
    "    'ARS': 'ARS',\n",
    "    'Argentinian peso (ARS)': 'ARS',\n",
    "    'Israeli Shekels': 'ILS',\n",
    "    'PhP (Philippine Peso)': 'PHP',\n",
    "    'PLN': 'PLN',\n",
    "    'KRW': 'KRW',\n",
    "    'SAR': 'SAR',\n",
    "    'RM': 'MYR',\n",
    "    'IDR': 'IDR',\n",
    "    'Argentine Peso': 'ARS',\n",
    "    'Philippine Pesos': 'PHP',\n",
    "    'Ils': 'ILS',\n",
    "    'INR (Indian Rupee)': 'INR',\n",
    "    'NTD': 'TWD',\n",
    "    'Danish Kroner': 'DKK',\n",
    "    'Korean Won ': 'KRW',\n",
    "    'dkk': 'DKK',\n",
    "    'SGD ': 'SGD',\n",
    "    'Mexican Pesos': 'MXN',\n",
    "    'THAI  BAHT': 'THB',\n",
    "    'Thai Baht ': 'THB',\n",
    "    'croatian kuna': 'HRK',\n",
    "    'PLN (Zwoty)': 'PLN',\n",
    "    'Rupees': 'INR',\n",
    "    'Singapore Dollara': 'SGD',\n",
    "    'NGN': 'NGN',\n",
    "    'COP': 'COP'\n",
    "}\n",
    "\n",
    "# Appliquer le remplacement sélectif aux valeurs non standard\n",
    "donnees['currency'] = donnees['currency'].apply(lambda x: mapping_non_standard.get(x, x) if x not in codes_ISO_standard else x)\n"
   ]
  },
  {
   "cell_type": "code",
   "execution_count": 45,
   "id": "f551cd4c",
   "metadata": {},
   "outputs": [
    {
     "data": {
      "text/plain": [
       "array(['USD', 'GBP', 'CAD', 'EUR', 'AUD/NZD', 'INR', 'ARS', 'CHF', 'MYR',\n",
       "       'ZAR', 'SEK', 'HKD', 'NOK', 'BRL', 'DKK', 'TTD', 'BRL (R$)', 'MXN',\n",
       "       'CZK', 'BDT', 'PHP', 'PLN', 'TRY', 'CNY', 'ILS', nan, 'AUD', 'JPY',\n",
       "       'TWD', 'SGD', 'KRW', 'THB', 'IDR', 'NZD', 'DKK ', 'LKR', 'Other',\n",
       "       'SAR', 'HRK', 'NGN', 'COP'], dtype=object)"
      ]
     },
     "execution_count": 45,
     "metadata": {},
     "output_type": "execute_result"
    }
   ],
   "source": [
    "donnees['currency'].unique()"
   ]
  },
  {
   "cell_type": "code",
   "execution_count": 46,
   "id": "01b60745",
   "metadata": {},
   "outputs": [
    {
     "data": {
      "text/plain": [
       "1"
      ]
     },
     "execution_count": 46,
     "metadata": {},
     "output_type": "execute_result"
    }
   ],
   "source": [
    "# Compter le nombre de valeurs \"other\" dans la colonne \"currency\"\n",
    "donnees['currency'].value_counts().get('Other',0)"
   ]
  },
  {
   "cell_type": "code",
   "execution_count": 47,
   "id": "6d918dcf",
   "metadata": {},
   "outputs": [
    {
     "data": {
      "text/plain": [
       "14915    Equity\n",
       "Name: other_currency, dtype: object"
      ]
     },
     "execution_count": 47,
     "metadata": {},
     "output_type": "execute_result"
    }
   ],
   "source": [
    "# Sélectionner la valeur de 'other_currency' lorsque 'currency' est égal à 'Other'\n",
    "donnees.loc[donnees['currency'] == 'Other', 'other_currency']"
   ]
  },
  {
   "cell_type": "code",
   "execution_count": 48,
   "id": "92c035bd",
   "metadata": {},
   "outputs": [
    {
     "data": {
      "text/html": [
       "<div>\n",
       "<style scoped>\n",
       "    .dataframe tbody tr th:only-of-type {\n",
       "        vertical-align: middle;\n",
       "    }\n",
       "\n",
       "    .dataframe tbody tr th {\n",
       "        vertical-align: top;\n",
       "    }\n",
       "\n",
       "    .dataframe thead th {\n",
       "        text-align: right;\n",
       "    }\n",
       "</style>\n",
       "<table border=\"1\" class=\"dataframe\">\n",
       "  <thead>\n",
       "    <tr style=\"text-align: right;\">\n",
       "      <th></th>\n",
       "      <th>Timestamp</th>\n",
       "      <th>age</th>\n",
       "      <th>industry</th>\n",
       "      <th>job</th>\n",
       "      <th>complement_job</th>\n",
       "      <th>annual_salary</th>\n",
       "      <th>aditional_salary</th>\n",
       "      <th>currency</th>\n",
       "      <th>other_currency</th>\n",
       "      <th>additional_context</th>\n",
       "      <th>country</th>\n",
       "      <th>state</th>\n",
       "      <th>city</th>\n",
       "      <th>work_year</th>\n",
       "      <th>year_field</th>\n",
       "      <th>educational_level</th>\n",
       "      <th>gender</th>\n",
       "      <th>race</th>\n",
       "    </tr>\n",
       "  </thead>\n",
       "  <tbody>\n",
       "    <tr>\n",
       "      <th>14915</th>\n",
       "      <td>4/28/2021 15:43:39</td>\n",
       "      <td>25-34</td>\n",
       "      <td>Marketing, Advertising &amp; PR</td>\n",
       "      <td>Marketing Content Creator</td>\n",
       "      <td>NaN</td>\n",
       "      <td>65,000</td>\n",
       "      <td>5000</td>\n",
       "      <td>Other</td>\n",
       "      <td>Equity</td>\n",
       "      <td>NaN</td>\n",
       "      <td>United States</td>\n",
       "      <td>New York</td>\n",
       "      <td>Brooklyn</td>\n",
       "      <td>8 - 10 years</td>\n",
       "      <td>1</td>\n",
       "      <td>College degree</td>\n",
       "      <td>Female</td>\n",
       "      <td>White</td>\n",
       "    </tr>\n",
       "  </tbody>\n",
       "</table>\n",
       "</div>"
      ],
      "text/plain": [
       "                Timestamp    age                     industry  \\\n",
       "14915  4/28/2021 15:43:39  25-34  Marketing, Advertising & PR   \n",
       "\n",
       "                              job complement_job annual_salary  \\\n",
       "14915  Marketing Content Creator             NaN        65,000   \n",
       "\n",
       "      aditional_salary currency other_currency additional_context  \\\n",
       "14915             5000    Other         Equity                NaN   \n",
       "\n",
       "             country     state      city     work_year  year_field  \\\n",
       "14915  United States  New York  Brooklyn  8 - 10 years           1   \n",
       "\n",
       "      educational_level  gender   race  \n",
       "14915    College degree  Female  White  "
      ]
     },
     "execution_count": 48,
     "metadata": {},
     "output_type": "execute_result"
    }
   ],
   "source": [
    "# Sélectionner toutes les lignes où 'other_currency' est égal à 'Equity'\n",
    "rows_with_equity = donnees[donnees['other_currency'] == 'Equity']\n",
    "rows_with_equity"
   ]
  },
  {
   "cell_type": "markdown",
   "id": "44ccec31",
   "metadata": {},
   "source": [
    "***we decided to replace the value 'Other/Equity' of the column other_currency by USD since the Country is the United states***"
   ]
  },
  {
   "cell_type": "code",
   "execution_count": 49,
   "id": "64dfa783",
   "metadata": {},
   "outputs": [],
   "source": [
    "# Remplacer  'Equity' par 'USD' dans la colonne 'currency'\n",
    "donnees['currency'] = donnees['currency'].replace('Other', 'USD')\n"
   ]
  },
  {
   "cell_type": "code",
   "execution_count": 50,
   "id": "6e7ec131",
   "metadata": {},
   "outputs": [
    {
     "data": {
      "text/plain": [
       "array(['USD', 'GBP', 'CAD', 'EUR', 'AUD/NZD', 'INR', 'ARS', 'CHF', 'MYR',\n",
       "       'ZAR', 'SEK', 'HKD', 'NOK', 'BRL', 'DKK', 'TTD', 'BRL (R$)', 'MXN',\n",
       "       'CZK', 'BDT', 'PHP', 'PLN', 'TRY', 'CNY', 'ILS', nan, 'AUD', 'JPY',\n",
       "       'TWD', 'SGD', 'KRW', 'THB', 'IDR', 'NZD', 'DKK ', 'LKR', 'SAR',\n",
       "       'HRK', 'NGN', 'COP'], dtype=object)"
      ]
     },
     "execution_count": 50,
     "metadata": {},
     "output_type": "execute_result"
    }
   ],
   "source": [
    "donnees['currency'].unique()"
   ]
  },
  {
   "cell_type": "markdown",
   "id": "fb668c8f",
   "metadata": {},
   "source": [
    "***Uniformisation des libellés : Créez une correspondance entre les libellés pour les regrouper en une seule représentation. Par exemple, remplacez tous les libellés comme 'US', 'USA', 'United States', 'United States of America' par 'United States'.\n",
    "Suppression des espaces superflus : Certains libellés peuvent contenir des espaces en trop à la fin ou au début. Supprimez-les pour avoir une uniformité dans les données.\n",
    "Traitement des anomalies : Certains libellés peuvent être des erreurs de saisie ou des valeurs incorrectes. Vous pouvez les examiner et, si nécessaire, les corriger ou les supprimer***"
   ]
  },
  {
   "cell_type": "code",
   "execution_count": 51,
   "id": "391ea4a9",
   "metadata": {},
   "outputs": [
    {
     "data": {
      "text/plain": [
       "array(['United States', 'United Kingdom', 'US', 'USA', 'Canada',\n",
       "       'United Kingdom ', 'usa', 'UK', 'Scotland ', 'U.S.',\n",
       "       'United States ', 'The Netherlands', 'Australia ', 'Spain', 'us',\n",
       "       'Usa', 'England', 'finland', 'United States of America', 'France',\n",
       "       'United states', 'Scotland', 'USA ', 'United states ', 'Germany',\n",
       "       'UK ', 'united states', 'Ireland', 'India', 'Australia', 'Uk',\n",
       "       'United States of America ', 'U.S. ', 'canada', 'Canada ', 'U.S>',\n",
       "       'ISA', 'Argentina', 'Great Britain ', 'US ', 'United State',\n",
       "       'U.S.A', 'Denmark', 'U.S.A.', 'America', 'Netherlands',\n",
       "       'netherlands', 'England ', 'united states of america', 'Ireland ',\n",
       "       'Switzerland', 'Netherlands ', 'Bermuda', 'Us',\n",
       "       'The United States', 'United State of America', 'Germany ',\n",
       "       'Malaysia', 'Mexico ', 'United Stated', 'South Africa ', 'Belgium',\n",
       "       'Northern Ireland', 'u.s.', 'South Africa', 'UNITED STATES',\n",
       "       'united States', 'Sweden', 'Hong Kong', 'Kuwait', 'Norway',\n",
       "       'Sri lanka', 'Contracts', 'USA-- Virgin Islands', 'United Statws',\n",
       "       'England/UK', 'U.S',\n",
       "       \"We don't get raises, we get quarterly bonuses, but they periodically asses income in the area you work, so I got a raise because a 3rd party assessment showed I was paid too little for the area we were located\",\n",
       "       'Unites States ', 'Usa ', 'U.S.A. ', 'England, UK.', 'Greece',\n",
       "       'Japan', 'U. S. ', 'Britain ', 'United Sates', 'Japan ', 'Austria',\n",
       "       'Brazil', 'Canada, Ottawa, ontario', 'Global', 'Sweden ',\n",
       "       'United States of American ', 'FRANCE', 'Uniited States',\n",
       "       'United Kingdom (England)',\n",
       "       'Worldwide (based in US but short term trips aroudn the world)',\n",
       "       'CANADA ', 'Canadw', 'Hungary', 'Luxembourg',\n",
       "       'United Sates of America', 'ireland',\n",
       "       'United States (I work from home and my clients are all over the US/Canada/PR',\n",
       "       'Colombia', 'CANADA', 'Unted States', 'germany', 'United Statesp',\n",
       "       'United Stattes', 'United Statea', 'United Kingdom.', 'Mexico',\n",
       "       'New Zealand', 'Trinidad and Tobago', 'Unites States',\n",
       "       'United Statees', 'United kingdom', 'Cayman Islands',\n",
       "       'UNited States', 'Can',\n",
       "       'I am located in Canada but I work for a company in the US',\n",
       "       'United kingdom ', 'Uniyed states', 'Uniyes States',\n",
       "       'United States of Americas', 'U.A.', 'Czech republic', 'Czechia',\n",
       "       'Latvia', 'Finland', 'U. S.', 'Puerto Rico', 'US of A', 'Rwanda',\n",
       "       'United States of america ', 'United Arab Emirates ',\n",
       "       'Bangladesh ', 'Spain ', 'U.K. ', 'Romania', 'U.SA',\n",
       "       'United Kindom', 'United Status', 'New Zealand ',\n",
       "       'Currently finance', ' U.S.', 'Serbia', 'Philippines', 'Russia ',\n",
       "       'Poland', 'UXZ', 'czech republic', 'England, UK', 'Turkey',\n",
       "       'Canda', 'Puerto Rico ', 'Canada and USA', 'Catalonia',\n",
       "       '$2,175.84/year is deducted for benefits', 'uk', 'France ',\n",
       "       'Italy (South)', 'Jersey, Channel islands', 'Uk ', 'China',\n",
       "       'Virginia', 'Afghanistan', 'Israel', 'U.s.', 'Great Britain',\n",
       "       'U.s.a.', 'USS', 'Denmark ', 'Uniteed States',\n",
       "       'New Zealand Aotearoa', 'U.K.', 'Hartford',\n",
       "       'Japan, US Gov position', 'Csnada', 'United Stares', 'New zealand',\n",
       "       'Mainland China', 'I.S.', 'UK (Northern Ireland)',\n",
       "       'UK for U.S. company', ' US', 'Unites states ', 'NZ', 'Us ',\n",
       "       'Hong Kong ', 'Taiwan', 'Canad', 'Unite States', 'australia',\n",
       "       'The US', 'united states ', 'The Netherlands ', 'Cambodia',\n",
       "       'United states of America ', 'Vietnam', 'Remote', 'Singapore',\n",
       "       'South Korea', 'Czech Republic ', 'Thailand', 'Bangladesh',\n",
       "       'Lithuania', 'Eritrea', 'Indonesia', 'Singapore ',\n",
       "       'For the United States government, but posted overseas', 'IS',\n",
       "       'Switzerland ', 'United Kingdomk', 'Italy', ' New Zealand', 'Cuba',\n",
       "       'Slovenia', 'Australi', \"Cote d'Ivoire\", 'united kingdom',\n",
       "       'From Romania, but for an US based company', 'Somalia',\n",
       "       'Wales (United Kingdom)', 'England, Gb', 'Czech Republic',\n",
       "       'UnitedStates', 'Sri Lanka', 'spain', 'Danmark',\n",
       "       'U.K. (northern England)', 'U.K', 'NL', 'the Netherlands',\n",
       "       'Nederland', 'Slovakia', 'United States of america', 'Portugal ',\n",
       "       'England, United Kingdom', 'Sierra Leone', 'Englang',\n",
       "       'United statew', 'UAE', 'Belgium ', 'International ',\n",
       "       'The Bahamas ', 'Wales',\n",
       "       \"I earn commission on sales. If I meet quota, I'm guaranteed another 16k min. Last year i earned an additional 27k. It's not uncommon for people in my space to earn 100k+ after commission. \",\n",
       "       'Costa Rica', ' United States', 'United Statues', 'Untied States',\n",
       "       'USA (company is based in a US territory, I work remote)', 'Chile',\n",
       "       'denmark', 'UK (England)', 'UK, remote', 'Scotland, UK', 'USAB',\n",
       "       'Unitied States', 'Norway ', 'Qatar', 'United Sttes',\n",
       "       'Remote (philippines)', 'Brazil ', 'Unites kingdom ',\n",
       "       'South africa', 'Portugal', 'united stated',\n",
       "       'United States Of America', 'Nigeria', 'Panamá',\n",
       "       'Northern Ireland ', 'england', 'SWITZERLAND',\n",
       "       'Austria, but I work remotely for a Dutch/British company',\n",
       "       \"I work for an US based company but I'm from Argentina.\",\n",
       "       'I was brought in on this salary to help with the EHR and very quickly was promoted to current position but compensation was not altered. ',\n",
       "       'Uniter Statez', 'U. S ', 'Congo', 'United states of America',\n",
       "       'Uruguay', 'Pakistan', 'Brasil', 'USA tomorrow ', 'United Stateds',\n",
       "       'n/a (remote from wherever I want)', 'singapore',\n",
       "       'US govt employee overseas, country withheld', 'usa ', 'Malaysia ',\n",
       "       'Uganda', 'Malta', 'Saudi Arabia', 'Bulgaria', 'Estonia',\n",
       "       'Morocco', 'new zealand', 'Africa', 'Ecuador', 'Zimbabwe', 'Ghana',\n",
       "       'San Francisco', 'Usat', '🇺🇸 ', 'Luxemburg', 'Unitef Stated', 'UA',\n",
       "       'Wales, UK', 'United Stares ', 'Croatia ',\n",
       "       'England, United Kingdom ', 'United STates', 'USaa', 'uSA',\n",
       "       'South Korea ', 'The netherlands', 'Ukraine ', 'america',\n",
       "       'switzerland', 'United States- Puerto Rico',\n",
       "       'From New Zealand but on projects across APAC', 'Y', 'United y',\n",
       "       'Wales (UK)', 'Isle of Man', 'Northern Ireland, United Kingdom',\n",
       "       'europe', 'California ',\n",
       "       'UK, but for globally fully remote company', 'Australian ',\n",
       "       'México', 'Jamaica', 'uS', 'USD', 'the netherlands',\n",
       "       \"USA, but for foreign gov't\", 'japan', 'Kenya', 'Jordan',\n",
       "       'United Statss', 'ARGENTINA BUT MY ORG IS IN THAILAND',\n",
       "       'United states of america', 'UsA',\n",
       "       'I work for a UAE-based organization, though I am personally in the US.',\n",
       "       'United  States', 'france', 'Aotearoa New Zealand', 'na', 'Policy',\n",
       "       'Cyprus', 'hong konh', 'United States is America', 'Liechtenstein',\n",
       "       'Company in Germany. I work from Pakistan.', 'croatia', 'Canadá',\n",
       "       'ENGLAND', 'United States of American', 'U.S.A ', 'INDIA',\n",
       "       'Bosnia and Herzegovina', 'NIGERIA', 'Poland ', 'pakistan'],\n",
       "      dtype=object)"
      ]
     },
     "execution_count": 51,
     "metadata": {},
     "output_type": "execute_result"
    }
   ],
   "source": [
    "donnees['country'].unique()"
   ]
  },
  {
   "cell_type": "code",
   "execution_count": 52,
   "id": "ec3cfab4",
   "metadata": {},
   "outputs": [],
   "source": [
    "donnees['country'] = donnees['country'].replace([\n",
    "    'United States', 'US', 'USA', 'usa', 'U.S.', 'United States ', 'us', 'UXZ',\n",
    "    'Usa', 'United States of America', 'United states', 'USA ', 'United states ',\n",
    "    'united states', 'United States of America ', 'U.S. ', 'U.S>',\n",
    "    'ISA', 'US ', 'United State', 'U.S.A', 'U.S.A.', 'America', 'united states of america', 'Us',\n",
    "    'The United States', 'United State of America', 'United Stated', 'u.s.', 'UNITED STATES',\n",
    "    'united States', 'USA-- Virgin Islands', 'United Statws', 'U.S',\n",
    "    'Unites States ', 'Usa ', 'U.S.A. ', 'U. S. ', 'United Sates', 'United States of American ', 'Uniited States',\n",
    "    'United Sates of America', 'United States (I work from home and my clients are all over the US/Canada/PR',\n",
    "    'Unted States', 'United Statesp', 'United Stattes', 'United Statea', 'Unites States',\n",
    "    'United Statees','bonus based on meeting yearly goals set w/ my supervisor'\n",
    "    'UNited States', 'I am located in Canada but I work for a company in the US', 'Uniyed states', 'Uniyes States',\n",
    "    'United States of Americas', 'I work for a UAE-based organization, though I am personally in the US.'\n",
    "    'U. S.', 'US of A', \"I earn commission on sales. If I meet quota, I'm guaranteed another 16k min. Last year i earned an additional 27k. It's not uncommon for people in my space to earn 100k+ after commission. \"\n",
    "    'United States of america ', 'U.SA', 'United Status', ' U.S.', 'Jersey, Channel islands', 'U.s.',\n",
    "    'U.s.a.', 'USS', 'Uniteed States', 'Hartford', 'I work for a UAE-based organization, though I am personally in the US.',\n",
    "    'Japan, US Gov position', 'United Stares', 'United y', 'Y', \n",
    "    'UK for U.S. company', ' US', 'Unites states ', 'Us ', 'Unite States',\n",
    "    'The US', 'united states ', 'United states of America ', 'Virginia', \n",
    "    'For the United States government, but posted overseas',\n",
    "    'From Romania, but for an US based company', 'na',\n",
    "    'UnitedStates', 'United States of america', 'UA',\n",
    "    'United statew','U.A.', 'bonus based on meeting yearly goals set w/ my supervisor',\n",
    "    'Costa Rica', ' United States', 'United Statues', 'Untied States',\n",
    "    'USA (company is based in a US territory, I work remote)', 'USAB',\n",
    "    'Unitied States', 'United Sttes', 'united stated',\n",
    "    'United States Of America', 'I.S.',\n",
    "    \"I work for an US based company but I'm from Argentina.\",\n",
    "    'Uniter Statez', 'U. S ', 'United states of America',\n",
    "    'USA tomorrow ', 'United Stateds', 'IS', \n",
    "    'US govt employee overseas, country withheld', 'usa ',\n",
    "    'San Francisco', 'Usat', '🇺🇸 ', 'Unitef Stated', 'United Stares ',\n",
    "    'United STates', 'USaa', 'uSA', 'america', 'United States- Puerto Rico', 'California ', 'uS', 'USD',\n",
    "    \"USA, but for foreign gov't\", 'United Statss', 'United states of america', 'UsA', 'United  States',\n",
    "    'United States is America', 'United States of American', 'U.S.A ', 'Worldwide (based in US but short term trips aroudn the world)'], 'USA')\n"
   ]
  },
  {
   "cell_type": "code",
   "execution_count": 53,
   "id": "8d33036c",
   "metadata": {},
   "outputs": [
    {
     "data": {
      "text/html": [
       "<div>\n",
       "<style scoped>\n",
       "    .dataframe tbody tr th:only-of-type {\n",
       "        vertical-align: middle;\n",
       "    }\n",
       "\n",
       "    .dataframe tbody tr th {\n",
       "        vertical-align: top;\n",
       "    }\n",
       "\n",
       "    .dataframe thead th {\n",
       "        text-align: right;\n",
       "    }\n",
       "</style>\n",
       "<table border=\"1\" class=\"dataframe\">\n",
       "  <thead>\n",
       "    <tr style=\"text-align: right;\">\n",
       "      <th></th>\n",
       "      <th>Timestamp</th>\n",
       "      <th>age</th>\n",
       "      <th>industry</th>\n",
       "      <th>job</th>\n",
       "      <th>complement_job</th>\n",
       "      <th>annual_salary</th>\n",
       "      <th>aditional_salary</th>\n",
       "      <th>currency</th>\n",
       "      <th>other_currency</th>\n",
       "      <th>additional_context</th>\n",
       "      <th>country</th>\n",
       "      <th>state</th>\n",
       "      <th>city</th>\n",
       "      <th>work_year</th>\n",
       "      <th>year_field</th>\n",
       "      <th>educational_level</th>\n",
       "      <th>gender</th>\n",
       "      <th>race</th>\n",
       "    </tr>\n",
       "  </thead>\n",
       "  <tbody>\n",
       "    <tr>\n",
       "      <th>12925</th>\n",
       "      <td>4/28/2021 11:48:37</td>\n",
       "      <td>35-44</td>\n",
       "      <td>Insurance</td>\n",
       "      <td>Associate Account Executive</td>\n",
       "      <td>Licensed insurance producer in a sales role at...</td>\n",
       "      <td>51,000</td>\n",
       "      <td>25000</td>\n",
       "      <td>USD</td>\n",
       "      <td>NaN</td>\n",
       "      <td>NaN</td>\n",
       "      <td>I earn commission on sales. If I meet quota, I...</td>\n",
       "      <td>Pennsylvania</td>\n",
       "      <td>Pittsburgh</td>\n",
       "      <td>11 - 20 years</td>\n",
       "      <td>1</td>\n",
       "      <td>College degree</td>\n",
       "      <td>Female</td>\n",
       "      <td>White</td>\n",
       "    </tr>\n",
       "  </tbody>\n",
       "</table>\n",
       "</div>"
      ],
      "text/plain": [
       "                Timestamp    age   industry                           job  \\\n",
       "12925  4/28/2021 11:48:37  35-44  Insurance  Associate Account Executive    \n",
       "\n",
       "                                          complement_job annual_salary  \\\n",
       "12925  Licensed insurance producer in a sales role at...        51,000   \n",
       "\n",
       "      aditional_salary currency other_currency additional_context  \\\n",
       "12925            25000      USD            NaN                NaN   \n",
       "\n",
       "                                                 country         state  \\\n",
       "12925  I earn commission on sales. If I meet quota, I...  Pennsylvania   \n",
       "\n",
       "             city      work_year  year_field educational_level  gender   race  \n",
       "12925  Pittsburgh  11 - 20 years           1    College degree  Female  White  "
      ]
     },
     "execution_count": 53,
     "metadata": {},
     "output_type": "execute_result"
    }
   ],
   "source": [
    "# Sélectionner toutes les lignes où 'other_currency' est égal à 'Equity'\n",
    "pays = donnees[donnees['country'] == \"I earn commission on sales. If I meet quota, I'm guaranteed another 16k min. Last year i earned an additional 27k. It's not uncommon for people in my space to earn 100k+ after commission. \"]\n",
    "pays\n"
   ]
  },
  {
   "cell_type": "code",
   "execution_count": 54,
   "id": "93181c3f",
   "metadata": {},
   "outputs": [],
   "source": [
    "donnees['country'] = donnees['country'].replace([\"I earn commission on sales. If I meet quota, I'm guaranteed another 16k min. Last year i earned an additional 27k. It's not uncommon for people in my space to earn 100k+ after commission. \"],'USA')"
   ]
  },
  {
   "cell_type": "code",
   "execution_count": 55,
   "id": "87b5cb4c",
   "metadata": {},
   "outputs": [],
   "source": [
    "donnees['country'] = donnees['country'].replace([\"We don't get raises, we get quarterly bonuses, but they periodically asses income in the area you work, so I got a raise because a 3rd party assessment showed I was paid too little for the area we were located\"],'USA')"
   ]
  },
  {
   "cell_type": "code",
   "execution_count": 56,
   "id": "f973fb62",
   "metadata": {},
   "outputs": [],
   "source": [
    "donnees['country'] = donnees['country'].replace(\n",
    "    [\n",
    "        'Can', \n",
    "        'Canad', \n",
    "        'Csnada', \n",
    "        'Canada', \n",
    "        'canada', \n",
    "        'CANADA', \n",
    "        'CANADA ', \n",
    "        'Currently finance', \n",
    "        \"$2,175.84/year is deducted for benefits\", \n",
    "        'Policy', \n",
    "        'Canada ', \n",
    "        'Canada and USA', \n",
    "        'Canada, Ottawa, ontario', \n",
    "        'Canadw', \n",
    "        'Canadá', \n",
    "        'Global'\n",
    "        'Canda'\n",
    "    ], 'Canada'\n",
    ")"
   ]
  },
  {
   "cell_type": "code",
   "execution_count": 57,
   "id": "120c4a1e",
   "metadata": {},
   "outputs": [],
   "source": [
    "donnees['country'] = donnees['country'].replace(['I was brought in on this salary to help with the EHR and very quickly was promoted to current position but compensation was not altered. '], 'USA')\n",
    "donnees['country'] = donnees['country'].replace(['Brasil',\n",
    " 'Brazil',\n",
    " 'Brazil '],'Brazil')\n",
    "donnees['country'] = donnees['country'].replace(['Australi',\n",
    " 'Australia',\n",
    " 'Australia ',\n",
    " 'Australian ','australia' ],'Australia')\n",
    "donnees['country'] = donnees['country'].replace(['ARGENTINA BUT MY ORG IS IN THAILAND',\n",
    "    'Argentina'],'Argentina')\n",
    "donnees['country'] = donnees['country'].replace(['Danmark',\n",
    " 'Denmark',\n",
    " 'Denmark '],'Denmark')\n",
    "donnees['country'] = donnees['country'].replace(['FRANCE','France',\n",
    " 'France ', 'france'],'France')\n",
    "donnees['country'] = donnees['country'].replace(['Czech Republic',\n",
    " 'Czech Republic ',\n",
    " 'Czech republic',\n",
    " 'Czechia', 'czech republic', 'europe'],'Czech Republic')\n",
    "donnees['country'] = donnees['country'].replace(['Austria',\n",
    " 'Austria, but I work remotely for a Dutch/British company'],'Austria')\n",
    "donnees['country'] = donnees['country'].replace(['New Zealand',\n",
    " 'New Zealand ',\n",
    " 'New Zealand Aotearoa',\n",
    " 'New zealand', 'new zealand', ' New Zealand', 'NZ','Aotearoa New Zealand', 'From New Zealand but on projects across APAC'],'New Zealand')\n",
    "\n",
    "donnees['country'] = donnees['country'].replace(['Northern Ireland',\n",
    " 'Northern Ireland ',\n",
    " 'Northern Ireland, United Kingdom', 'Ireland',\n",
    " 'Ireland ', 'ireland'],'Ireland')\n",
    "\n",
    "\n",
    "donnees['country'] = donnees['country'].replace(['The Netherlands',\n",
    " 'The Netherlands ',\n",
    " 'The netherlands', 'Nederland',\n",
    " 'Netherlands',\n",
    " 'Netherlands ', 'the Netherlands',\n",
    " 'the netherlands', 'netherlands', 'NL'],'The Netherlands')\n",
    "\n",
    "donnees['country'] = donnees['country'].replace(['Bangladesh',\n",
    " 'Bangladesh '],'Bangladesh')\n",
    "\n",
    "donnees['country'] = donnees['country'].replace(['Belgium',\n",
    " 'Belgium '],'Belgium')\n",
    "\n",
    "donnees['country'] = donnees['country'].replace(['Company in Germany. I work from Pakistan.','germany','Germany',\n",
    " 'Germany ' ],'Argentina')\n",
    "\n",
    "donnees['country'] = donnees['country'].replace(['Hong Kong',\n",
    " 'Hong Kong '],'Hong Kong')\n",
    "\n",
    "donnees['country'] = donnees['country'].replace(['Japan','japan',\n",
    " 'Japan ',\n",
    " 'Japan, US Gov position',],'Japan')\n",
    "\n",
    "donnees['country']= donnees['country'].replace(['Italy',\n",
    " 'Italy (South)'],'Italy')\n",
    "\n",
    "donnees['country'] = donnees['country'].replace(['Luxembourg',\n",
    " 'Luxemburg'],'Luxembourg')\n",
    "\n",
    "donnees['country'] = donnees['country'].replace(['Mexico',\n",
    " 'Mexico ',\n",
    " 'México'],'Mexico')\n",
    "\n",
    "donnees['country'] = donnees['country'].replace(['Mainland China'],'China')\n",
    "\n",
    "donnees['country'] = donnees['country'].replace(['United States- Puerto Rico', 'Puerto Rico',\n",
    " 'Puerto Rico '],'Puerto Rico')\n",
    "\n",
    "donnees['country'] = donnees['country'].replace(['Malaysia',\n",
    " 'Malaysia '],'Malaysia')\n",
    "\n",
    "donnees['country'] = donnees['country'].replace(['Portugal','Portugal '],'Portugal')\n",
    "\n",
    "donnees['country'] = donnees['country'].replace(['Wales',\n",
    " 'Wales (UK)',\n",
    " 'Wales (United Kingdom)',\n",
    " 'Wales, UK'],'Wales')\n",
    "\n",
    "donnees['country ']= donnees['country'].replace(['NIGERIA','Nigeria'],'Nigeria')\n",
    "\n",
    "donnees['country'] = donnees['country'].replace(['Remote',\n",
    " 'Remote (philippines)', 'n/a (remote from wherever I want)'],'Philipines')\n",
    "\n",
    "donnees['country'] = donnees['country'].replace(['SWITZERLAND','Switzerland',\n",
    " 'Switzerland ', 'switzerland'],'Argentina')\n",
    "\n",
    "donnees['country ']= donnees['country'].replace(['Scotland',\n",
    " 'Scotland ',\n",
    " 'Scotland, UK'],'Scotland')\n",
    "\n",
    "donnees['country ']= donnees['country'].replace(['Norway',\n",
    " 'Norway '],'Norway')\n",
    "\n",
    "donnees['country'] = donnees['country'].replace(['South Africa',\n",
    " 'South Africa ', 'South africa'],'Argentina')\n",
    "\n",
    "donnees['country ']= donnees['country'].replace(['Philippines',\n",
    " 'Phillipines', 'Philipines',\n",
    " 'Phillipines'],'Phillipines')\n",
    "\n",
    "donnees['country'] = donnees['country'].replace(['South Korea',\n",
    " 'South Korea '],'South Korea')\n",
    "\n",
    "donnees['country'] = donnees['country'].replace(['Spain',\n",
    " 'Spain ', 'spain'],'Spain')\n",
    "\n",
    "donnees['country'] = donnees['country'].replace(['Singapore',\n",
    " 'Singapore ', 'singapore'],'Singapore')\n",
    "\n",
    "donnees['country'] = donnees['country'].replace(['Sri Lanka',\n",
    " 'Sri lanka'],'Sri Lanka')\n",
    "\n",
    "donnees['country'] = donnees['country'].replace(['INDIA'],'India')\n",
    "\n",
    "donnees['country'] = donnees['country'].replace(['Jersey, Channel islands'],'Jersey')\n",
    "\n",
    "donnees['country'] = donnees['country'].replace(['hong konh'],'Hong Kong')\n",
    "\n",
    "donnees['country'] = donnees['country'].replace(['croatia', 'Croatia',\n",
    " 'Croatia '],'Croatia')\n",
    "\n",
    "donnees['country'] = donnees['country'].replace(['denmark'],'Denmark')\n",
    "\n",
    "donnees['country'] = donnees['country'].replace(['finland'],'Finland')\n",
    "\n",
    "donnees['country'] = donnees['country'].replace(['UAE', \"United Arab Emirates \"],'United Arab Emirates')\n",
    "\n",
    "donnees['country'] = donnees['country'].replace(['Poland',\n",
    " 'Poland '],'Poland')\n",
    "\n",
    "\n",
    "donnees['country'] = donnees['country'].replace(['England',\n",
    " 'England ',\n",
    " 'England, Gb',\n",
    " 'England, UK',\n",
    " 'England, UK.',\n",
    " 'England, United Kingdom',\n",
    " 'England, United Kingdom ',\n",
    " 'England/UK',\n",
    " 'Englang', 'Great Britain',\n",
    " 'Great Britain ','U.K',\n",
    " 'U.K.',\n",
    " 'U.K. ',\n",
    " 'U.K. (northern England)', 'UK',\n",
    " 'UK ',\n",
    " 'UK (England)',\n",
    " 'UK (Northern Ireland)',\n",
    " 'UK for U.S. company',\n",
    " 'UK, but for globally fully remote company',\n",
    " 'UK, remote', 'United Kindom',\n",
    " 'United Kingdom',\n",
    " 'United Kingdom ',\n",
    " 'United Kingdom (England)',\n",
    " 'United Kingdom.',\n",
    " 'United Kingdomk',\n",
    " 'United kingdom',\n",
    " 'United kingdom ','Uk',\n",
    " 'Uk ', 'ENGLAND', 'uk',\n",
    " 'united kingdom', 'england'],'England')\n"
   ]
  },
  {
   "cell_type": "code",
   "execution_count": 58,
   "id": "1b30c268",
   "metadata": {},
   "outputs": [
    {
     "data": {
      "text/plain": [
       "array(['USA', 'England', 'Canada', 'Scotland ', 'The Netherlands',\n",
       "       'Australia', 'Spain', 'Finland', 'France', 'Scotland', 'Argentina',\n",
       "       'Ireland', 'India', 'Denmark', 'Bermuda', 'Malaysia', 'Mexico',\n",
       "       'Belgium', 'Sweden', 'Hong Kong', 'Kuwait', 'Norway', 'Sri Lanka',\n",
       "       'Contracts', 'Greece', 'Japan', 'Britain ', 'Austria', 'Brazil',\n",
       "       'Global', 'Sweden ', 'Hungary', 'Luxembourg', 'Colombia',\n",
       "       'New Zealand', 'Trinidad and Tobago', 'Cayman Islands',\n",
       "       'UNited States', 'Czech Republic', 'Latvia', 'U. S.',\n",
       "       'Puerto Rico', 'Rwanda', 'United States of america ',\n",
       "       'United Arab Emirates', 'Bangladesh', 'Romania', 'Serbia',\n",
       "       'Philippines', 'Russia ', 'Poland', 'Turkey', 'Canda', 'Catalonia',\n",
       "       'Italy', 'China', 'Afghanistan', 'Israel', 'Taiwan', 'Cambodia',\n",
       "       'Vietnam', 'Philipines', 'Singapore', 'South Korea', 'Thailand',\n",
       "       'Lithuania', 'Eritrea', 'Indonesia', 'Cuba', 'Slovenia',\n",
       "       \"Cote d'Ivoire\", 'Somalia', 'Wales', 'Slovakia', 'Portugal',\n",
       "       'Sierra Leone', 'International ', 'The Bahamas ', 'Chile',\n",
       "       'Scotland, UK', 'Norway ', 'Qatar', 'Unites kingdom ', 'Nigeria',\n",
       "       'Panamá', 'Congo', 'Uruguay', 'Pakistan', 'Uganda', 'Malta',\n",
       "       'Saudi Arabia', 'Bulgaria', 'Estonia', 'Morocco', 'Africa',\n",
       "       'Ecuador', 'Zimbabwe', 'Ghana', 'Croatia', 'Ukraine ',\n",
       "       'Isle of Man', 'Jamaica', 'Kenya', 'Jordan', 'Cyprus',\n",
       "       'Liechtenstein', 'Bosnia and Herzegovina', 'NIGERIA', 'pakistan'],\n",
       "      dtype=object)"
      ]
     },
     "execution_count": 58,
     "metadata": {},
     "output_type": "execute_result"
    }
   ],
   "source": [
    "donnees['country'].unique()"
   ]
  },
  {
   "cell_type": "markdown",
   "id": "bc3a95f7",
   "metadata": {},
   "source": [
    "# Question 5: Text data processing and the trasform text variable in numerical values:\n"
   ]
  },
  {
   "cell_type": "markdown",
   "id": "d16f629a",
   "metadata": {},
   "source": [
    "Text data processing : pour notre methode de prétraitement , nous definissons une expression régulière pour nettoyer notre données en éliminant tout ce qui n'est pas caractère alphabetique ou numerique. Ensuite nous suivons les differentes étapes de preprocessing : \n",
    "- La tokenization : pour divises le texte en mots, \n",
    "- le stemming : qui réduit nos mots à leur racine, \n",
    "- et la lemmatisation: qui  les ramène à leur forme de base. "
   ]
  },
  {
   "cell_type": "code",
   "execution_count": 18,
   "id": "ae425836",
   "metadata": {},
   "outputs": [],
   "source": [
    "\n",
    "text_cleaning_re = \"@\\S+|https?:\\S+|http?:\\S|[^A-Za-z0-9]+\"\n",
    "\n",
    "def tokenize(text):\n",
    "    \"\"\"Tokenize text\"\"\"\n",
    "    return word_tokenize(text)\n",
    "\n",
    "def lemmatize_words(words):\n",
    "    \"\"\"Lemmatize words in text\"\"\"\n",
    "    lemmatizer = WordNetLemmatizer()\n",
    "    return [lemmatizer.lemmatize(word) for word in words]\n",
    "\n",
    "def remove_stopwords(words, stop_words=stopwords.words('english')):\n",
    "    \"\"\"Remove stopwords from text\"\"\"\n",
    "    return [word for word in words if word not in stop_words]\n",
    "\n",
    "def preprocess(text):\n",
    "    # Cleaning\n",
    "    text = re.sub(text_cleaning_re, ' ', str(text).lower()).strip()\n",
    "    \n",
    "    # Tokenization\n",
    "    words = tokenize(text)\n",
    "    \n",
    "    # Lemmatization\n",
    "    words = lemmatize_words(words)\n",
    "    \n",
    "    # Remove stopwords\n",
    "    words = remove_stopwords(words)\n",
    "    \n",
    "    return \" \".join(words)\n"
   ]
  },
  {
   "cell_type": "code",
   "execution_count": 24,
   "id": "1955cb07",
   "metadata": {},
   "outputs": [
    {
     "name": "stdout",
     "output_type": "stream",
     "text": [
      "Avant le prétraitement:\n",
      "                     industry                                    job  \\\n",
      "0  education higher education         research instruction librarian   \n",
      "1              computing tech  change internal communication manager   \n",
      "2  accounting banking finance                   marketing specialist   \n",
      "3                   nonprofit                        program manager   \n",
      "4  accounting banking finance                     accounting manager   \n",
      "\n",
      "  educational_level  \n",
      "0     master degree  \n",
      "1    college degree  \n",
      "2    college degree  \n",
      "3    college degree  \n",
      "4    college degree  \n",
      "\n",
      "Après le prétraitement:\n",
      "                     industry                                    job  \\\n",
      "0  education higher education         research instruction librarian   \n",
      "1              computing tech  change internal communication manager   \n",
      "2  accounting banking finance                   marketing specialist   \n",
      "3                   nonprofit                        program manager   \n",
      "4  accounting banking finance                     accounting manager   \n",
      "\n",
      "  educational_level  \n",
      "0     master degree  \n",
      "1    college degree  \n",
      "2    college degree  \n",
      "3    college degree  \n",
      "4    college degree  \n"
     ]
    }
   ],
   "source": [
    "#Application de notre fonction de préprocessing à nos differentes colonnes \n",
    "\n",
    "columns_name = ['industry', 'job', 'educational_level']  \n",
    "\n",
    "for column in columns_name:\n",
    "    donnees[column] = donnees[column].apply(preprocess)\n",
    "    \n",
    "for column in columns_name:\n",
    "    print(f\"Données prétraiter {column} :\\n{donnees[column]}\\n\")"
   ]
  },
  {
   "cell_type": "markdown",
   "id": "47ca3191",
   "metadata": {},
   "source": [
    "**Pour transformer nos donner en vecteurs numeriques nous utilisons la methode word2vec. \n",
    "Ici nous l'alons apliquer sur 4colonnes textuelles  (`country`, `educational_level`, `job`, `industry`) , en convertissant chaque texte en une liste de mots (tokens). \n",
    "Pour chaque colonne, un modèle Word2Vec distinct est entraîné pour générer des vecteurs de mots, capturant ainsi les caractéristiques sémantiques du texte. \n",
    "Ensuite, il calcule la moyenne de ces vecteurs pour chaque entrée, créant ainsi un ensemble de nouvelles caractéristiques numériques.**\n"
   ]
  },
  {
   "cell_type": "code",
   "execution_count": 37,
   "id": "acd7f0b9",
   "metadata": {},
   "outputs": [
    {
     "name": "stdout",
     "output_type": "stream",
     "text": [
      "   industry_word2vec_1  industry_word2vec_2  industry_word2vec_3  \\\n",
      "0            -0.094325             0.307330            -0.010797   \n",
      "1            -0.111940             0.337981             0.029418   \n",
      "2            -0.043158             0.282165             0.129068   \n",
      "3            -0.083249             0.291140             0.015637   \n",
      "4            -0.043158             0.282165             0.129068   \n",
      "\n",
      "   industry_word2vec_4  industry_word2vec_5  industry_word2vec_6  \\\n",
      "0             0.567078             0.132639             0.085204   \n",
      "1             0.456315             0.031238            -0.073521   \n",
      "2             0.445449             0.144033            -0.137634   \n",
      "3             0.343353             0.126695            -0.087819   \n",
      "4             0.445449             0.144033            -0.137634   \n",
      "\n",
      "   industry_word2vec_7  industry_word2vec_8  industry_word2vec_9  \\\n",
      "0            -0.066761             0.053591            -0.307262   \n",
      "1            -0.046038             0.134643            -0.268817   \n",
      "2            -0.131583             0.187322            -0.092639   \n",
      "3            -0.125386             0.195780            -0.172251   \n",
      "4            -0.131583             0.187322            -0.092639   \n",
      "\n",
      "   industry_word2vec_10  ...  industry_word2vec_91  industry_word2vec_92  \\\n",
      "0              0.212391  ...              0.180127             -0.131230   \n",
      "1              0.007125  ...              0.123447              0.125632   \n",
      "2              0.057428  ...              0.216990              0.115407   \n",
      "3             -0.047444  ...              0.141083              0.092674   \n",
      "4              0.057428  ...              0.216990              0.115407   \n",
      "\n",
      "   industry_word2vec_93  industry_word2vec_94  industry_word2vec_95  \\\n",
      "0             -0.037131              0.178738             -0.176963   \n",
      "1             -0.071785              0.206497              0.030133   \n",
      "2              0.006903              0.296553             -0.255330   \n",
      "3             -0.013106              0.168449              0.019937   \n",
      "4              0.006903              0.296553             -0.255330   \n",
      "\n",
      "   industry_word2vec_96  industry_word2vec_97  industry_word2vec_98  \\\n",
      "0             -0.597713             -0.180576              0.224589   \n",
      "1             -0.331002             -0.161845              0.083620   \n",
      "2             -0.334022             -0.250651              0.363528   \n",
      "3             -0.321334             -0.108533              0.049347   \n",
      "4             -0.334022             -0.250651              0.363528   \n",
      "\n",
      "   industry_word2vec_99  industry_word2vec_100  \n",
      "0             -0.241203               0.520816  \n",
      "1             -0.266312               0.487800  \n",
      "2             -0.309144               0.627688  \n",
      "3             -0.137342               0.407038  \n",
      "4             -0.309144               0.627688  \n",
      "\n",
      "[5 rows x 100 columns]\n"
     ]
    }
   ],
   "source": [
    "\n",
    "colonnes = ['country','educational_level', 'job', 'industry']\n",
    "\n",
    "for colonne in colonnes:\n",
    "    donnees[colonne] = donnees[colonne].apply(traitement_texte_word2vec)\n",
    "\n",
    "    word2vec_model = Word2Vec(sentences=donnees[colonne].tolist(), vector_size=100, window=5, min_count=1, workers=4)\n",
    "\n",
    "    def get_word2vec_mean(words):\n",
    "        vectors = [word2vec_model.wv[word] for word in words if word in word2vec_model.wv]\n",
    "        if vectors:\n",
    "            return np.mean(vectors, axis=0)\n",
    "        else:\n",
    "            return np.zeros(100) \n",
    "\n",
    "    df_word2vec = pd.DataFrame(donnees[colonne].apply(get_word2vec_mean).tolist(),\n",
    "                               columns=[f'{colonne}_word2vec_{i+1}' for i in range(100)])\n",
    "\n",
    "    \n",
    "    #donnees = pd.concat([donnees, df_word2vec], axis=1)\n",
    "print(df_word2vec.head())"
   ]
  },
  {
   "cell_type": "markdown",
   "id": "fb87478b",
   "metadata": {},
   "source": [
    "# Question 6: Data transformation and preprocessing for an algorithm running on numerical data only\n"
   ]
  },
  {
   "cell_type": "markdown",
   "id": "c0082e0d",
   "metadata": {},
   "source": [
    "Lorsque nous travaillons avec des algorithmes qui acceptent uniquement des données numériques, il est nécessaire de \n",
    "transformer les variables non numériques (catégoriques, textuelles, etc.) en une représentation numérique. \n",
    "Voici quelques étapes courantes pour effectuer cette transformation :\n",
    "- Encodage des variables catégoriques : Utilisez l'encodage one-hot pour transformer les variables catégoriques en un format numérique. \n",
    "    Chaque catégorie devient une nouvelle colonne binaire(0 ou 1).\n"
   ]
  },
  {
   "cell_type": "markdown",
   "id": "8519694d",
   "metadata": {},
   "source": [
    "# Question 7 :Data transformation and preprocessing for an algorithm running on both numeric and \n",
    "categorical data: \n",
    "Are there any preprocessing steps – other than cleaning- that you should \n",
    "perform to use the dataset for an ML algorithm running on any kind of features? "
   ]
  },
  {
   "cell_type": "markdown",
   "id": "f8afd4f9",
   "metadata": {},
   "source": [
    "Lorsque nous travaillons avec un algorithme de machine learning qui prend à la fois des données numériques et catégoriques, plusieurs étapes de prétraitement peuvent être nécessaires :\n",
    "\n",
    "- Encodage des variables catégoriques : Les algorithmes de machine learning fonctionnent généralement mieux avec des données numériques. \n",
    "    Donc il faut encoder les variables catégoriques. Pour cela il y'a plusieurs methode d'encodage tellesque:  l'encodage one-hot (pandas get_dummies) pour les variables catégoriques avec peu de catégories, \n",
    "    ou utiliser l'encodage de label (LabelEncoder) pour les variables catégoriques ordinales\n",
    "- Normalisation des donées : Si nous utilisons des algorithmes sensibles à l'échelle des variables numériques (comme les méthodes basées sur la distance : le KMN par exemple), \n",
    "    il faut normaliser ces variables pour qu'elles aient une échelle comparable."
   ]
  },
  {
   "cell_type": "markdown",
   "id": "96217aab",
   "metadata": {},
   "source": [
    "# Question 8: Manifold learning \n",
    "Use different manifold learning algorithms in order to learn the shape of the \n",
    "data. If possible, compute the reconstruction error on the obtained representations"
   ]
  },
  {
   "cell_type": "markdown",
   "id": "477eb3e6",
   "metadata": {},
   "source": [
    "# Apply t-SNE model  with manifold.TSNE\n",
    "\n",
    "Ici on selectionne un sous-ensemble aléatoire de 1000 points par fautes de mémoire(dû à la grande taille de nos données) à partir de df_word2vec(données numerisées qu'on utilise ici) .\n",
    "\n",
    "**Les étapes :**\n",
    "\n",
    "- On utilise l'algo t-SNE à ce sous-ensemble pour le projeter dans un espace à deux dimensions.\n",
    "\n",
    "- On évalue également la fidélité de cette réduction en calculant et en comparant les distances euclidiennes entre les points dans l'espace d'origine et dans l'espace t-SNE. \n",
    "- Une corrélation entre ces distances est calculée pour quantifier la conservation de la structure des données et on visualise le résultat dans un graphique 2D"
   ]
  },
  {
   "cell_type": "code",
   "execution_count": 51,
   "id": "82068b51",
   "metadata": {},
   "outputs": [
    {
     "name": "stderr",
     "output_type": "stream",
     "text": [
      "C:\\Users\\etudiant\\anaconda3\\lib\\site-packages\\sklearn\\manifold\\_t_sne.py:780: FutureWarning: The default initialization in TSNE will change from 'random' to 'pca' in 1.2.\n",
      "  warnings.warn(\n",
      "C:\\Users\\etudiant\\anaconda3\\lib\\site-packages\\sklearn\\manifold\\_t_sne.py:790: FutureWarning: The default learning rate in TSNE will change from 200.0 to 'auto' in 1.2.\n",
      "  warnings.warn(\n"
     ]
    },
    {
     "name": "stdout",
     "output_type": "stream",
     "text": [
      "Corrélation entre les distances originales et t-SNE : 0.6873737260444787\n"
     ]
    },
    {
     "data": {
      "image/png": "[encoded data removed]",
      "text/plain": [
       "<Figure size 600x600 with 1 Axes>"
      ]
     },
     "metadata": {},
     "output_type": "display_data"
    }
   ],
   "source": [
    "from sklearn.manifold import TSNE\n",
    "from scipy.spatial.distance import pdist, squareform\n",
    "\n",
    "X = df_word2vec\n",
    "X_sample = X.sample(n=1000, random_state=0)\n",
    "tsne = TSNE(n_components=2, random_state=0)\n",
    "X_tsne = tsne.fit_transform(X_sample)\n",
    "\n",
    "# Calculer les distances dans l'espace original et dans l'espace t-SNE \n",
    "distances_original = pdist(X_sample, 'euclidean')\n",
    "distances_tsne = pdist(X_tsne, 'euclidean')\n",
    "dist_matrix_original = squareform(distances_original)\n",
    "dist_matrix_tsne = squareform(distances_tsne)\n",
    "\n",
    "# Calculer la corrélation entre les distances originales et t-SNE\n",
    "correlation = np.corrcoef(dist_matrix_original.flatten(), dist_matrix_tsne.flatten())[0, 1]\n",
    "print(f\"Corrélation entre les distances originales et t-SNE : {correlation}\")\n",
    "\n",
    "plt.figure(figsize=(6, 6))\n",
    "plt.scatter(X_tsne[:, 0], X_tsne[:, 1], cmap=plt.cm.viridis)\n",
    "plt.title('t-SNE Projection')\n",
    "plt.show()\n"
   ]
  },
  {
   "cell_type": "markdown",
   "id": "fe92c00c",
   "metadata": {},
   "source": [
    "# Use Multi Dimensional Scaling with manifold.MDS and project the dataset \n",
    "Ici on utilise  Multidimensional Scaling (MDS) pour réduire la dimensionnalité en un espace à deux dimensions. \n",
    "\n",
    "**les étapes :**\n",
    "- On applice le MDS, \n",
    "- Ensuite on calcul les distances euclidiennes dans l'espace réduit et compare ces distances à celles de l'espace d'origine, \n",
    "- en utilisant la corrélation de Spearman pour évaluer la fidélité de la réduction de dimension. \n",
    "- On visualise les résultats de MDS dans un graphique 2D, "
   ]
  },
  {
   "cell_type": "code",
   "execution_count": 48,
   "id": "1acfa38a",
   "metadata": {},
   "outputs": [
    {
     "name": "stdout",
     "output_type": "stream",
     "text": [
      "Corrélation de Spearman entre les distances originales et réduites : 0.8284014123512995\n"
     ]
    },
    {
     "data": {
      "image/png": "[encoded data removed]",
      "text/plain": [
       "<Figure size 800x600 with 1 Axes>"
      ]
     },
     "metadata": {},
     "output_type": "display_data"
    }
   ],
   "source": [
    "from sklearn.manifold import MDS\n",
    "from sklearn.metrics import pairwise_distances\n",
    "from scipy.stats import spearmanr\n",
    "\n",
    "X = df_word2vec\n",
    "\n",
    "X_sample = X.sample(n=1000, random_state=0)  \n",
    "distances = pairwise_distances(X_sample, metric='euclidean')\n",
    "X_mds = mds.fit_transform(distances)\n",
    "\n",
    "mds = MDS(n_components=2, dissimilarity='precomputed', random_state=0)\n",
    "X_mds = mds.fit_transform(distances)\n",
    "\n",
    "# Calculer la matrice des distances dans l'espace réduit\n",
    "distances_mds = pairwise_distances(X_mds, metric='euclidean')\n",
    "distances_flattened = distances.flatten()\n",
    "distances_mds_flattened = distances_mds.flatten()\n",
    "\n",
    "# Calculer la corrélation de Spearman entre les distances originales et réduites\n",
    "correlation, _ = spearmanr(distances_flattened, distances_mds_flattened)\n",
    "print(f\"Corrélation de Spearman entre les distances originales et réduites : {correlation}\")\n",
    "\n",
    "plt.figure(figsize=(8, 6))\n",
    "plt.scatter(X_mds[:, 0], X_mds[:, 1], cmap=plt.cm.viridis)\n",
    "plt.title('MDS Projection')\n",
    "plt.show()\n"
   ]
  },
  {
   "cell_type": "markdown",
   "id": "990a8440",
   "metadata": {},
   "source": [
    "# Question 9 :Reduce the dimensions to 2D or 3D and scatter the data\n",
    "Analyse the obtained visualizations \n",
    "depending on used embedding methods and conclude how the quality of the data impact these \n",
    "results."
   ]
  }
 ],
 "metadata": {
  "celltoolbar": "Format de la Cellule Texte Brut",
  "kernelspec": {
   "display_name": "Python 3 (ipykernel)",
   "language": "python",
   "name": "python3"
  },
  "language_info": {
   "codemirror_mode": {
    "name": "ipython",
    "version": 3
   },
   "file_extension": ".py",
   "mimetype": "text/x-python",
   "name": "python",
   "nbconvert_exporter": "python",
   "pygments_lexer": "ipython3",
   "version": "3.9.13"
  }
 },
 "nbformat": 4,
 "nbformat_minor": 5
}
